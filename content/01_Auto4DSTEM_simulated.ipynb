{
 "cells": [
  {
   "cell_type": "markdown",
   "id": "f8c6e7d6",
   "metadata": {},
   "source": [
    "# Simulated Data: Extremely Noisy 4-D STEM Strain Mapping Using Cycle Consistent Spatial Transforming Autoencoders \n"
   ]
  },
  {
   "cell_type": "markdown",
   "id": "fd1a40a8",
   "metadata": {},
   "source": [
    "## Package Installation\n",
    "\n",
    "Make sure to install auto4dstem from source:\n",
    "\n",
    "```bash\n",
    "pip install auto4dstem\n",
    "```"
   ]
  },
  {
   "cell_type": "markdown",
   "id": "eae9ffb5",
   "metadata": {},
   "source": [
    "## Package Loading"
   ]
  },
  {
   "cell_type": "code",
   "execution_count": 1,
   "id": "21230171",
   "metadata": {},
   "outputs": [],
   "source": [
    "%load_ext autoreload\n",
    "%autoreload 2\n",
    "import os\n",
    "import torch\n",
    "import pickle\n",
    "import warnings\n",
    "import numpy as np\n",
    "import matplotlib.pyplot as plt\n",
    "import matplotlib.pylab as pylab\n",
    "from cmcrameri import cm\n",
    "from auto4dstem.nn.Train_Function import Train\n",
    "from auto4dstem.masks.masks import Mask\n",
    "from auto4dstem.viz.viz import set_format_Auto4D, visualize_simulate_result, visual_performance_plot,normalized_strain_matrices\n",
    "from m3util.util.IO import download_files_from_txt"
   ]
  },
  {
   "cell_type": "markdown",
   "id": "d5c1b02c",
   "metadata": {},
   "source": [
    "## Device Setting"
   ]
  },
  {
   "cell_type": "code",
   "execution_count": 2,
   "id": "29965f80",
   "metadata": {},
   "outputs": [
    {
     "name": "stdout",
     "output_type": "stream",
     "text": [
      "Using GPU\n"
     ]
    }
   ],
   "source": [
    "os.environ[\"CUDA_DEVICE_ORDER\"]=\"PCI_BUS_ID\"\n",
    "os.environ[\"CUDA_VISIBLE_DEVICES\"]=\"6\"\n",
    "\n",
    "if torch.cuda.is_available():\n",
    "    device = torch.device('cuda')\n",
    "    print(\"Using GPU\")\n",
    "else:\n",
    "    device = torch.device('cpu')\n",
    "    print(\"Using CPU\")"
   ]
  },
  {
   "cell_type": "markdown",
   "id": "baa99eb2",
   "metadata": {},
   "source": [
    "## Visualization Format \n",
    "\n",
    "Set the format for standard plotting throughout the notebook"
   ]
  },
  {
   "cell_type": "code",
   "execution_count": 3,
   "id": "d945b34a",
   "metadata": {},
   "outputs": [],
   "source": [
    "set_format = set_format_Auto4D()\n",
    "pylab.rcParams.update(set_format)"
   ]
  },
  {
   "cell_type": "code",
   "execution_count": 4,
   "id": "412afc50",
   "metadata": {},
   "outputs": [],
   "source": [
    "# warnings.filterwarnings('ignore') "
   ]
  },
  {
   "cell_type": "markdown",
   "id": "5eb49ec8",
   "metadata": {},
   "source": [
    "## Download Data and Pre-Trained Models"
   ]
  },
  {
   "cell_type": "code",
   "execution_count": 6,
   "id": "5e43974f",
   "metadata": {},
   "outputs": [],
   "source": [
    "folder_name = './data'\n",
    "file_download =  \"/home/jca92/Auto4DSTEM/content/Simulated_4dstem/Extremely_Noisy_4DSTEM_Strain_Mapping_Using_CC_ST_AE_Simulated/simulated_label_weights_affine_para\""
   ]
  },
  {
   "cell_type": "code",
   "execution_count": 17,
   "id": "b0ace36c",
   "metadata": {
    "scrolled": true
   },
   "outputs": [
    {
     "name": "stderr",
     "output_type": "stream",
     "text": [
      "  0%|          | 0/72 [00:00<?, ?it/s]"
     ]
    },
    {
     "name": "stderr",
     "output_type": "stream",
     "text": [
      "  1%|▏         | 1/72 [00:25<29:53, 25.27s/it]"
     ]
    },
    {
     "name": "stdout",
     "output_type": "stream",
     "text": [
      "Downloaded: 40percent_noisy_simulated_4dstem_pretrained_weights.pkl\n"
     ]
    },
    {
     "name": "stderr",
     "output_type": "stream",
     "text": [
      "  3%|▎         | 2/72 [00:30<15:47, 13.54s/it]"
     ]
    },
    {
     "name": "stdout",
     "output_type": "stream",
     "text": [
      "Downloaded: 45percent_noisy_simulated_4dstem_pretrained_weights.pkl\n"
     ]
    },
    {
     "name": "stderr",
     "output_type": "stream",
     "text": [
      "  4%|▍         | 3/72 [00:32<09:17,  8.07s/it]"
     ]
    },
    {
     "name": "stdout",
     "output_type": "stream",
     "text": [
      "Downloaded: 60Percent_pretrained_rotation.npy\n"
     ]
    },
    {
     "name": "stderr",
     "output_type": "stream",
     "text": [
      "  6%|▌         | 4/72 [00:34<06:39,  5.88s/it]"
     ]
    },
    {
     "name": "stdout",
     "output_type": "stream",
     "text": [
      "Downloaded: analysis_bg50per_1e5counts__strain.h5\n"
     ]
    },
    {
     "name": "stderr",
     "output_type": "stream",
     "text": [
      "  7%|▋         | 5/72 [01:13<20:01, 17.94s/it]"
     ]
    },
    {
     "name": "stdout",
     "output_type": "stream",
     "text": [
      "Downloaded: 25percent_noisy_simulated_4dstem_pretrained_weights.pkl\n"
     ]
    },
    {
     "name": "stderr",
     "output_type": "stream",
     "text": [
      "  8%|▊         | 6/72 [01:15<13:34, 12.33s/it]"
     ]
    },
    {
     "name": "stdout",
     "output_type": "stream",
     "text": [
      "Downloaded: 20Percent_pretrained_rotation.npy\n"
     ]
    },
    {
     "name": "stderr",
     "output_type": "stream",
     "text": [
      " 10%|▉         | 7/72 [01:16<09:21,  8.64s/it]"
     ]
    },
    {
     "name": "stdout",
     "output_type": "stream",
     "text": [
      "Downloaded: Label_shear_xy.npy\n"
     ]
    },
    {
     "name": "stderr",
     "output_type": "stream",
     "text": [
      " 11%|█         | 8/72 [01:17<06:38,  6.22s/it]"
     ]
    },
    {
     "name": "stdout",
     "output_type": "stream",
     "text": [
      "Downloaded: Label_strain_yy.npy\n"
     ]
    },
    {
     "name": "stderr",
     "output_type": "stream",
     "text": [
      " 12%|█▎        | 9/72 [01:18<04:55,  4.70s/it]"
     ]
    },
    {
     "name": "stdout",
     "output_type": "stream",
     "text": [
      "Downloaded: 25Percent_pretrained_rotation.npy\n"
     ]
    },
    {
     "name": "stderr",
     "output_type": "stream",
     "text": [
      " 14%|█▍        | 10/72 [01:22<04:31,  4.38s/it]"
     ]
    },
    {
     "name": "stdout",
     "output_type": "stream",
     "text": [
      "Downloaded: 10percent_noisy_simulated_4dstem_pretrained_weights.pkl\n"
     ]
    },
    {
     "name": "stderr",
     "output_type": "stream",
     "text": [
      " 15%|█▌        | 11/72 [01:59<14:44, 14.50s/it]"
     ]
    },
    {
     "name": "stdout",
     "output_type": "stream",
     "text": [
      "Downloaded: 30percent_noisy_simulated_4dstem_pretrained_weights.pkl\n"
     ]
    },
    {
     "name": "stderr",
     "output_type": "stream",
     "text": [
      " 17%|█▋        | 12/72 [02:01<10:24, 10.41s/it]"
     ]
    },
    {
     "name": "stdout",
     "output_type": "stream",
     "text": [
      "Downloaded: analysis_bg40per_1e5counts__strain.h5\n"
     ]
    },
    {
     "name": "stderr",
     "output_type": "stream",
     "text": [
      " 18%|█▊        | 13/72 [02:03<08:00,  8.15s/it]"
     ]
    },
    {
     "name": "stdout",
     "output_type": "stream",
     "text": [
      "Downloaded: 05percent_noisy_simulated_4dstem_pretrained_weights.pkl\n"
     ]
    },
    {
     "name": "stderr",
     "output_type": "stream",
     "text": [
      " 19%|█▉        | 14/72 [02:06<06:13,  6.44s/it]"
     ]
    },
    {
     "name": "stdout",
     "output_type": "stream",
     "text": [
      "Downloaded: 70percent_noisy_simulated_4dstem_pretrained_weights.pkl\n"
     ]
    },
    {
     "name": "stderr",
     "output_type": "stream",
     "text": [
      " 21%|██        | 15/72 [02:07<04:35,  4.83s/it]"
     ]
    },
    {
     "name": "stdout",
     "output_type": "stream",
     "text": [
      "Downloaded: analysis_bg45per_1e5counts__strain.h5\n"
     ]
    },
    {
     "name": "stderr",
     "output_type": "stream",
     "text": [
      " 22%|██▏       | 16/72 [02:43<13:09, 14.10s/it]"
     ]
    },
    {
     "name": "stdout",
     "output_type": "stream",
     "text": [
      "Downloaded: 00percent_noisy_simulated_4dstem_pretrained_weights.pkl\n"
     ]
    },
    {
     "name": "stderr",
     "output_type": "stream",
     "text": [
      " 24%|██▎       | 17/72 [02:46<09:52, 10.77s/it]"
     ]
    },
    {
     "name": "stdout",
     "output_type": "stream",
     "text": [
      "Downloaded: 60percent_noisy_simulated_4dstem_pretrained_weights.pkl\n"
     ]
    },
    {
     "name": "stderr",
     "output_type": "stream",
     "text": [
      " 25%|██▌       | 18/72 [02:48<07:27,  8.28s/it]"
     ]
    },
    {
     "name": "stdout",
     "output_type": "stream",
     "text": [
      "Downloaded: 35percent_noisy_simulated_4dstem_pretrained_weights.pkl\n"
     ]
    },
    {
     "name": "stderr",
     "output_type": "stream",
     "text": [
      " 26%|██▋       | 19/72 [02:51<05:54,  6.69s/it]"
     ]
    },
    {
     "name": "stdout",
     "output_type": "stream",
     "text": [
      "Downloaded: 00Percent_pretrained_rotation.npy\n"
     ]
    },
    {
     "name": "stderr",
     "output_type": "stream",
     "text": [
      " 28%|██▊       | 20/72 [02:54<04:46,  5.51s/it]"
     ]
    },
    {
     "name": "stdout",
     "output_type": "stream",
     "text": [
      "Downloaded: analysis_bg20per_1e5counts__strain.h5\n"
     ]
    },
    {
     "name": "stderr",
     "output_type": "stream",
     "text": [
      " 29%|██▉       | 21/72 [02:56<03:55,  4.62s/it]"
     ]
    },
    {
     "name": "stdout",
     "output_type": "stream",
     "text": [
      "Downloaded: 20percent_noisy_simulated_4dstem_pretrained_weights.pkl\n"
     ]
    },
    {
     "name": "stderr",
     "output_type": "stream",
     "text": [
      " 31%|███       | 22/72 [03:28<10:29, 12.59s/it]"
     ]
    },
    {
     "name": "stdout",
     "output_type": "stream",
     "text": [
      "Downloaded: 50percent_noisy_simulated_4dstem_pretrained_weights.pkl\n"
     ]
    },
    {
     "name": "stderr",
     "output_type": "stream",
     "text": [
      " 32%|███▏      | 23/72 [03:30<07:50,  9.60s/it]"
     ]
    },
    {
     "name": "stdout",
     "output_type": "stream",
     "text": [
      "Downloaded: analysis_bg60per_1e5counts__strain.h5\n"
     ]
    },
    {
     "name": "stderr",
     "output_type": "stream",
     "text": [
      " 33%|███▎      | 24/72 [03:33<06:00,  7.51s/it]"
     ]
    },
    {
     "name": "stdout",
     "output_type": "stream",
     "text": [
      "Downloaded: analysis_bg70per_1e5counts__strain.h5\n"
     ]
    },
    {
     "name": "stderr",
     "output_type": "stream",
     "text": [
      " 35%|███▍      | 25/72 [03:34<04:19,  5.52s/it]"
     ]
    },
    {
     "name": "stdout",
     "output_type": "stream",
     "text": [
      "Downloaded: 70Percent_pretrained_rotation.npy\n"
     ]
    },
    {
     "name": "stderr",
     "output_type": "stream",
     "text": [
      " 36%|███▌      | 26/72 [03:36<03:23,  4.43s/it]"
     ]
    },
    {
     "name": "stdout",
     "output_type": "stream",
     "text": [
      "Downloaded: 45Percent_pretrained_rotation.npy\n"
     ]
    },
    {
     "name": "stderr",
     "output_type": "stream",
     "text": [
      " 38%|███▊      | 27/72 [03:38<02:55,  3.89s/it]"
     ]
    },
    {
     "name": "stdout",
     "output_type": "stream",
     "text": [
      "Downloaded: analysis_bg05per_1e5counts__strain.h5\n"
     ]
    },
    {
     "name": "stderr",
     "output_type": "stream",
     "text": [
      " 39%|███▉      | 28/72 [03:39<02:13,  3.03s/it]"
     ]
    },
    {
     "name": "stdout",
     "output_type": "stream",
     "text": [
      "Downloaded: analysis_bg15per_1e5counts__strain.h5\n"
     ]
    },
    {
     "name": "stderr",
     "output_type": "stream",
     "text": [
      " 40%|████      | 29/72 [03:40<01:43,  2.40s/it]"
     ]
    },
    {
     "name": "stdout",
     "output_type": "stream",
     "text": [
      "Downloaded: 15Percent_pretrained_rotation.npy\n"
     ]
    },
    {
     "name": "stderr",
     "output_type": "stream",
     "text": [
      " 42%|████▏     | 30/72 [03:41<01:25,  2.04s/it]"
     ]
    },
    {
     "name": "stdout",
     "output_type": "stream",
     "text": [
      "Downloaded: analysis_bg00per_1e5counts__strain.h5\n"
     ]
    },
    {
     "name": "stderr",
     "output_type": "stream",
     "text": [
      " 43%|████▎     | 31/72 [03:44<01:32,  2.26s/it]"
     ]
    },
    {
     "name": "stdout",
     "output_type": "stream",
     "text": [
      "Downloaded: analysis_bg30per_1e5counts__strain.h5\n"
     ]
    },
    {
     "name": "stderr",
     "output_type": "stream",
     "text": [
      " 44%|████▍     | 32/72 [03:45<01:15,  1.89s/it]"
     ]
    },
    {
     "name": "stdout",
     "output_type": "stream",
     "text": [
      "Downloaded: analysis_bg25per_1e5counts__strain.h5\n"
     ]
    },
    {
     "name": "stderr",
     "output_type": "stream",
     "text": [
      " 46%|████▌     | 33/72 [03:46<01:01,  1.57s/it]"
     ]
    },
    {
     "name": "stdout",
     "output_type": "stream",
     "text": [
      "Downloaded: Label_rotation.npy\n"
     ]
    },
    {
     "name": "stderr",
     "output_type": "stream",
     "text": [
      " 47%|████▋     | 34/72 [03:49<01:12,  1.90s/it]"
     ]
    },
    {
     "name": "stdout",
     "output_type": "stream",
     "text": [
      "Downloaded: 15percent_noisy_simulated_4dstem_pretrained_weights.pkl\n"
     ]
    },
    {
     "name": "stderr",
     "output_type": "stream",
     "text": [
      " 49%|████▊     | 35/72 [03:50<00:59,  1.61s/it]"
     ]
    },
    {
     "name": "stdout",
     "output_type": "stream",
     "text": [
      "Downloaded: 10Percent_pretrained_rotation.npy\n"
     ]
    },
    {
     "name": "stderr",
     "output_type": "stream",
     "text": [
      " 50%|█████     | 36/72 [03:51<00:49,  1.39s/it]"
     ]
    },
    {
     "name": "stdout",
     "output_type": "stream",
     "text": [
      "Downloaded: 40Percent_pretrained_rotation.npy\n"
     ]
    },
    {
     "name": "stderr",
     "output_type": "stream",
     "text": [
      " 51%|█████▏    | 37/72 [03:51<00:43,  1.24s/it]"
     ]
    },
    {
     "name": "stdout",
     "output_type": "stream",
     "text": [
      "Downloaded: 30Percent_pretrained_rotation.npy\n"
     ]
    },
    {
     "name": "stderr",
     "output_type": "stream",
     "text": [
      " 53%|█████▎    | 38/72 [03:53<00:43,  1.27s/it]"
     ]
    },
    {
     "name": "stdout",
     "output_type": "stream",
     "text": [
      "Downloaded: 05Percent_pretrained_rotation.npy\n"
     ]
    },
    {
     "name": "stderr",
     "output_type": "stream",
     "text": [
      " 54%|█████▍    | 39/72 [03:55<00:52,  1.60s/it]"
     ]
    },
    {
     "name": "stdout",
     "output_type": "stream",
     "text": [
      "Downloaded: 35Percent_pretrained_rotation.npy\n"
     ]
    },
    {
     "name": "stderr",
     "output_type": "stream",
     "text": [
      " 56%|█████▌    | 40/72 [03:56<00:45,  1.43s/it]"
     ]
    },
    {
     "name": "stdout",
     "output_type": "stream",
     "text": [
      "Downloaded: analysis_bg10per_1e5counts__strain.h5\n"
     ]
    },
    {
     "name": "stderr",
     "output_type": "stream",
     "text": [
      " 57%|█████▋    | 41/72 [03:58<00:47,  1.53s/it]"
     ]
    },
    {
     "name": "stdout",
     "output_type": "stream",
     "text": [
      "Downloaded: 50Percent_pretrained_rotation.npy\n"
     ]
    },
    {
     "name": "stderr",
     "output_type": "stream",
     "text": [
      " 58%|█████▊    | 42/72 [03:59<00:41,  1.38s/it]"
     ]
    },
    {
     "name": "stdout",
     "output_type": "stream",
     "text": [
      "Downloaded: analysis_bg35per_1e5counts__strain.h5\n"
     ]
    },
    {
     "name": "stderr",
     "output_type": "stream",
     "text": [
      " 60%|█████▉    | 43/72 [04:00<00:37,  1.29s/it]"
     ]
    },
    {
     "name": "stdout",
     "output_type": "stream",
     "text": [
      "Downloaded: Label_strain_xx.npy\n"
     ]
    },
    {
     "name": "stderr",
     "output_type": "stream",
     "text": [
      " 61%|██████    | 44/72 [04:01<00:33,  1.19s/it]"
     ]
    },
    {
     "name": "stdout",
     "output_type": "stream",
     "text": [
      "Downloaded: 45Per_2_train_process_scale_shear.npy\n"
     ]
    },
    {
     "name": "stderr",
     "output_type": "stream",
     "text": [
      " 62%|██████▎   | 45/72 [04:02<00:30,  1.13s/it]"
     ]
    },
    {
     "name": "stdout",
     "output_type": "stream",
     "text": [
      "Downloaded: 60Per_2_train_process_scale_shear.npy\n"
     ]
    },
    {
     "name": "stderr",
     "output_type": "stream",
     "text": [
      " 64%|██████▍   | 46/72 [04:03<00:28,  1.09s/it]"
     ]
    },
    {
     "name": "stdout",
     "output_type": "stream",
     "text": [
      "Downloaded: 30Per_2_train_process_scale_shear.npy\n"
     ]
    },
    {
     "name": "stderr",
     "output_type": "stream",
     "text": [
      " 65%|██████▌   | 47/72 [04:04<00:25,  1.02s/it]"
     ]
    },
    {
     "name": "stdout",
     "output_type": "stream",
     "text": [
      "Downloaded: 40Per_2_train_process_rotation.npy\n"
     ]
    },
    {
     "name": "stderr",
     "output_type": "stream",
     "text": [
      " 67%|██████▋   | 48/72 [04:06<00:33,  1.40s/it]"
     ]
    },
    {
     "name": "stdout",
     "output_type": "stream",
     "text": [
      "Downloaded: 10Per_2_train_process_scale_shear.npy\n"
     ]
    },
    {
     "name": "stderr",
     "output_type": "stream",
     "text": [
      " 68%|██████▊   | 49/72 [04:07<00:29,  1.28s/it]"
     ]
    },
    {
     "name": "stdout",
     "output_type": "stream",
     "text": [
      "Downloaded: 20Per_2_train_process_scale_shear.npy\n"
     ]
    },
    {
     "name": "stderr",
     "output_type": "stream",
     "text": [
      " 69%|██████▉   | 50/72 [04:09<00:29,  1.33s/it]"
     ]
    },
    {
     "name": "stdout",
     "output_type": "stream",
     "text": [
      "Downloaded: 30Per_2_train_process_rotation.npy\n"
     ]
    },
    {
     "name": "stderr",
     "output_type": "stream",
     "text": [
      " 71%|███████   | 51/72 [04:10<00:25,  1.22s/it]"
     ]
    },
    {
     "name": "stdout",
     "output_type": "stream",
     "text": [
      "Downloaded: 05Per_2_train_process_scale_shear.npy\n"
     ]
    },
    {
     "name": "stderr",
     "output_type": "stream",
     "text": [
      " 72%|███████▏  | 52/72 [04:11<00:22,  1.14s/it]"
     ]
    },
    {
     "name": "stdout",
     "output_type": "stream",
     "text": [
      "Downloaded: 05Per_2_train_process_rotation.npy\n"
     ]
    },
    {
     "name": "stderr",
     "output_type": "stream",
     "text": [
      " 74%|███████▎  | 53/72 [04:11<00:20,  1.08s/it]"
     ]
    },
    {
     "name": "stdout",
     "output_type": "stream",
     "text": [
      "Downloaded: 25Per_2_train_process_rotation.npy\n"
     ]
    },
    {
     "name": "stderr",
     "output_type": "stream",
     "text": [
      " 75%|███████▌  | 54/72 [04:12<00:18,  1.02s/it]"
     ]
    },
    {
     "name": "stdout",
     "output_type": "stream",
     "text": [
      "Downloaded: 45Per_2_train_process_rotation.npy\n"
     ]
    },
    {
     "name": "stderr",
     "output_type": "stream",
     "text": [
      " 76%|███████▋  | 55/72 [04:13<00:17,  1.02s/it]"
     ]
    },
    {
     "name": "stdout",
     "output_type": "stream",
     "text": [
      "Downloaded: 35Per_2_train_process_scale_shear.npy\n"
     ]
    },
    {
     "name": "stderr",
     "output_type": "stream",
     "text": [
      " 78%|███████▊  | 56/72 [04:14<00:15,  1.00it/s]"
     ]
    },
    {
     "name": "stdout",
     "output_type": "stream",
     "text": [
      "Downloaded: 50Per_2_train_process_scale_shear.npy\n"
     ]
    },
    {
     "name": "stderr",
     "output_type": "stream",
     "text": [
      " 79%|███████▉  | 57/72 [04:16<00:15,  1.06s/it]"
     ]
    },
    {
     "name": "stdout",
     "output_type": "stream",
     "text": [
      "Downloaded: 70Per_2_train_process_scale_shear.npy\n"
     ]
    },
    {
     "name": "stderr",
     "output_type": "stream",
     "text": [
      " 81%|████████  | 58/72 [04:17<00:16,  1.20s/it]"
     ]
    },
    {
     "name": "stdout",
     "output_type": "stream",
     "text": [
      "Downloaded: 00Per_2_train_process_rotation.npy\n"
     ]
    },
    {
     "name": "stderr",
     "output_type": "stream",
     "text": [
      " 82%|████████▏ | 59/72 [04:18<00:14,  1.10s/it]"
     ]
    },
    {
     "name": "stdout",
     "output_type": "stream",
     "text": [
      "Downloaded: 10Per_2_train_process_rotation.npy\n"
     ]
    },
    {
     "name": "stderr",
     "output_type": "stream",
     "text": [
      " 83%|████████▎ | 60/72 [04:19<00:12,  1.06s/it]"
     ]
    },
    {
     "name": "stdout",
     "output_type": "stream",
     "text": [
      "Downloaded: 00Per_2_train_process_scale_shear.npy\n"
     ]
    },
    {
     "name": "stderr",
     "output_type": "stream",
     "text": [
      " 85%|████████▍ | 61/72 [04:20<00:13,  1.20s/it]"
     ]
    },
    {
     "name": "stdout",
     "output_type": "stream",
     "text": [
      "Downloaded: 20Per_2_train_process_rotation.npy\n"
     ]
    },
    {
     "name": "stderr",
     "output_type": "stream",
     "text": [
      " 86%|████████▌ | 62/72 [04:23<00:14,  1.49s/it]"
     ]
    },
    {
     "name": "stdout",
     "output_type": "stream",
     "text": [
      "Downloaded: 15Per_2_train_process_rotation.npy\n"
     ]
    },
    {
     "name": "stderr",
     "output_type": "stream",
     "text": [
      " 88%|████████▊ | 63/72 [04:23<00:11,  1.30s/it]"
     ]
    },
    {
     "name": "stdout",
     "output_type": "stream",
     "text": [
      "Downloaded: 35Per_2_train_process_rotation.npy\n"
     ]
    },
    {
     "name": "stderr",
     "output_type": "stream",
     "text": [
      " 89%|████████▉ | 64/72 [04:24<00:09,  1.20s/it]"
     ]
    },
    {
     "name": "stdout",
     "output_type": "stream",
     "text": [
      "Downloaded: 15Per_2_train_process_scale_shear.npy\n"
     ]
    },
    {
     "name": "stderr",
     "output_type": "stream",
     "text": [
      " 90%|█████████ | 65/72 [04:25<00:08,  1.15s/it]"
     ]
    },
    {
     "name": "stdout",
     "output_type": "stream",
     "text": [
      "Downloaded: 25Per_2_train_process_scale_shear.npy\n"
     ]
    },
    {
     "name": "stderr",
     "output_type": "stream",
     "text": [
      " 92%|█████████▏| 66/72 [04:26<00:06,  1.09s/it]"
     ]
    },
    {
     "name": "stdout",
     "output_type": "stream",
     "text": [
      "Downloaded: 40Per_2_train_process_scale_shear.npy\n"
     ]
    },
    {
     "name": "stderr",
     "output_type": "stream",
     "text": [
      " 93%|█████████▎| 67/72 [04:27<00:05,  1.02s/it]"
     ]
    },
    {
     "name": "stdout",
     "output_type": "stream",
     "text": [
      "Downloaded: 50Per_2_train_process_rotation.npy\n"
     ]
    },
    {
     "name": "stderr",
     "output_type": "stream",
     "text": [
      " 94%|█████████▍| 68/72 [04:29<00:04,  1.14s/it]"
     ]
    },
    {
     "name": "stdout",
     "output_type": "stream",
     "text": [
      "Downloaded: 60Per_2_train_process_rotation.npy\n"
     ]
    },
    {
     "name": "stderr",
     "output_type": "stream",
     "text": [
      " 96%|█████████▌| 69/72 [04:30<00:03,  1.16s/it]"
     ]
    },
    {
     "name": "stdout",
     "output_type": "stream",
     "text": [
      "Downloaded: 70Per_2_train_process_rotation.npy\n"
     ]
    },
    {
     "name": "stderr",
     "output_type": "stream",
     "text": [
      " 97%|█████████▋| 70/72 [04:31<00:02,  1.05s/it]"
     ]
    },
    {
     "name": "stdout",
     "output_type": "stream",
     "text": [
      "Downloaded: simulated_4dstem_grain_index.npy\n"
     ]
    },
    {
     "name": "stderr",
     "output_type": "stream",
     "text": [
      " 99%|█████████▊| 71/72 [04:31<00:00,  1.15it/s]"
     ]
    },
    {
     "name": "stdout",
     "output_type": "stream",
     "text": [
      "Downloaded: MAE_list_simulated_4dstem.pickle\n"
     ]
    },
    {
     "name": "stderr",
     "output_type": "stream",
     "text": [
      "100%|██████████| 72/72 [12:34<00:00, 10.48s/it] "
     ]
    },
    {
     "name": "stdout",
     "output_type": "stream",
     "text": [
      "Downloaded: polycrystal_output4D.mat\n"
     ]
    },
    {
     "name": "stderr",
     "output_type": "stream",
     "text": [
      "\n"
     ]
    }
   ],
   "source": [
    "# check where are you from the root path\n",
    "download_files_from_txt(file_download,folder_name)"
   ]
  },
  {
   "cell_type": "markdown",
   "id": "278cd0cf",
   "metadata": {},
   "source": [
    "## Mask Construction\n",
    "\n"
   ]
  },
  {
   "cell_type": "markdown",
   "id": "81acd179",
   "metadata": {},
   "source": [
    "### Build Mask\n",
    "\n",
    "We build a ring mask with inner radius 50 and outer radius 85, to only calculate the loss in the region of interest where there are diffraction spots. This avoids the central region where there is no diffraction spot - and limited information regarding the strain. "
   ]
  },
  {
   "cell_type": "code",
   "execution_count": 7,
   "id": "ce7296f3",
   "metadata": {},
   "outputs": [],
   "source": [
    "# set mask class\n",
    "set_mask = Mask()\n",
    "\n",
    "# generate mask \n",
    "mask_tensor, mask_list = set_mask.mask_ring(radius_1=50, radius_2 = 85)"
   ]
  },
  {
   "cell_type": "markdown",
   "id": "52b9a78e",
   "metadata": {},
   "source": [
    "## Benchmark Simulated 4DSTEM Dataset"
   ]
  },
  {
   "cell_type": "markdown",
   "id": "f7db16cd",
   "metadata": {},
   "source": [
    "### Set Parameters\n",
    "\n",
    "Sets the initial Background level (BKG level), Load Data and Pre-Trained Weights"
   ]
  },
  {
   "cell_type": "code",
   "execution_count": 8,
   "id": "462c6659",
   "metadata": {},
   "outputs": [],
   "source": [
    "bkg_intensity = 0\n",
    "bkg_str = format(int(bkg_intensity*100),'02d')\n",
    "data_path = os.path.abspath(f'{folder_name}/polycrystal_output4D.mat')\n",
    "rotation_path = f'{folder_name}/{bkg_str}Percent_pretrained_rotation.npy'"
   ]
  },
  {
   "cell_type": "markdown",
   "id": "7aaff678",
   "metadata": {},
   "source": [
    "## Initialize Training Class\n",
    "\n",
    "This initializes the training class with the given parameters, and loads the data. "
   ]
  },
  {
   "cell_type": "code",
   "execution_count": 9,
   "id": "721815fa",
   "metadata": {},
   "outputs": [
    {
     "name": "stdout",
     "output_type": "stream",
     "text": [
      "/home/jca92/Auto4DSTEM/content/data/polycrystal_output4D.mat\n",
      "add image-rotation pair to whole dataset\n"
     ]
    },
    {
     "name": "stderr",
     "output_type": "stream",
     "text": [
      "100%|██████████| 65536/65536 [00:00<00:00, 278924.26it/s]\n"
     ]
    }
   ],
   "source": [
    "tc = Train(data_path,\n",
    "                device = device, \n",
    "                transpose = (1,0,3,2),\n",
    "                background_weight=bkg_intensity,\n",
    "                learned_rotation=rotation_path,\n",
    "                adjust_learned_rotation = 0,\n",
    "                num_base=1,\n",
    "                up_size=800,\n",
    "                scale_limit=0.05,\n",
    "                shear_limit=0.1,\n",
    "                rotation_limit=0.1,\n",
    "                trans_limit = 0.15,\n",
    "                adj_mask_para=0,\n",
    "                fixed_mask = mask_list,\n",
    "                check_mask = None,\n",
    "                interpolate = True,\n",
    "                revise_affine = False,\n",
    "                folder_path = folder_name\n",
    "                )"
   ]
  },
  {
   "cell_type": "markdown",
   "id": "8b18a7fc",
   "metadata": {},
   "source": [
    "#### Random Diffraction Image"
   ]
  },
  {
   "cell_type": "code",
   "execution_count": 18,
   "id": "b3ca64f2",
   "metadata": {},
   "outputs": [
    {
     "data": {
      "image/png": "[encoded data removed]",
      "text/plain": [
       "<Figure size 400x400 with 1 Axes>"
      ]
     },
     "metadata": {},
     "output_type": "display_data"
    }
   ],
   "source": [
    "tc.crop_one_image(clim=[0,4e-5])"
   ]
  },
  {
   "cell_type": "markdown",
   "id": "2170a22b-98a5-414a-b37d-14817cd79f83",
   "metadata": {},
   "source": [
    "**Figure 1: Random diffraction image from 4D-STEM**"
   ]
  },
  {
   "cell_type": "code",
   "execution_count": 17,
   "id": "19728833",
   "metadata": {},
   "outputs": [
    {
     "data": {
      "image/png": "[encoded data removed]",
      "text/plain": [
       "<Figure size 1200x400 with 3 Axes>"
      ]
     },
     "metadata": {},
     "output_type": "display_data"
    }
   ],
   "source": [
    "tc.visual_noise(noise_level = [0,0.25,0.6],file_name='simulated',add_label = True,save_format = 'png')"
   ]
  },
  {
   "cell_type": "markdown",
   "id": "8a099d43-119b-4a39-8631-80b86d22ffda",
   "metadata": {},
   "source": [
    "**Figure 2: Diffract image with various Poisson Ditributed Noise intensity. a) Raw data. b) Applied 10% noise intensity. c) 25% noise intensity. d) 45% noise intensity. e) 60% Noise Intensity.**"
   ]
  },
  {
   "cell_type": "markdown",
   "id": "32d80016",
   "metadata": {},
   "source": [
    "## Load pretrained weight to neural network"
   ]
  },
  {
   "cell_type": "code",
   "execution_count": 14,
   "id": "16d54c7b",
   "metadata": {},
   "outputs": [],
   "source": [
    "weight_path = f\"{folder_name}/{bkg_str}percent_noisy_simulated_4dstem_pretrained_weights.pkl\"\n",
    "tc.load_pretrained_weight(weight_path)"
   ]
  },
  {
   "cell_type": "markdown",
   "id": "6c65d584",
   "metadata": {},
   "source": [
    "## Generate and save results"
   ]
  },
  {
   "cell_type": "code",
   "execution_count": null,
   "id": "85b477ad",
   "metadata": {},
   "outputs": [],
   "source": [
    "# # set batch size and load dataset into DataLoader\n",
    "tc.batch_size = 256\n",
    "tc.predict(train_process='2',\n",
    "           save_strain = True,\n",
    "           save_rotation = True,\n",
    "           file_name=bkg_intensity)"
   ]
  },
  {
   "cell_type": "markdown",
   "id": "c9110869",
   "metadata": {},
   "source": [
    "## Initialize visual result class "
   ]
  },
  {
   "cell_type": "markdown",
   "id": "bb48d3c3",
   "metadata": {},
   "source": [
    "### Set hyper parameters of the class"
   ]
  },
  {
   "cell_type": "code",
   "execution_count": 16,
   "id": "3872f346",
   "metadata": {},
   "outputs": [],
   "source": [
    "bkg_intensity = 0\n",
    "bkg_str = format(int(bkg_intensity*100),'02d')\n",
    "rotation_path = f'{folder_name}/{bkg_str}Per_2_train_process_rotation.npy'\n",
    "strain_path = f'{folder_name}/{bkg_str}Per_2_train_process_scale_shear.npy'\n",
    "file_py4DSTEM = f'{folder_name}/analysis_bg{bkg_str}per_1e5counts__strain.h5'\n",
    "rotation_clean = np.load(rotation_path)\n",
    "scale_shear_clean = np.load(strain_path)"
   ]
  },
  {
   "cell_type": "markdown",
   "id": "cdb36ac6",
   "metadata": {},
   "source": [
    "### Visualize results in notebook"
   ]
  },
  {
   "cell_type": "code",
   "execution_count": 17,
   "id": "ab8a9441",
   "metadata": {},
   "outputs": [],
   "source": [
    "img_show = True\n",
    "if img_show:\n",
    "    %matplotlib inline\n",
    "else:\n",
    "    plt.ioff()"
   ]
  },
  {
   "cell_type": "markdown",
   "id": "674c76a1",
   "metadata": {},
   "source": [
    "### Create class and visualize rotation result"
   ]
  },
  {
   "cell_type": "code",
   "execution_count": null,
   "id": "7cdb38ae",
   "metadata": {},
   "outputs": [],
   "source": [
    "visual = visualize_simulate_result(rotation =  rotation_clean,\n",
    "                                scale_shear = scale_shear_clean,\n",
    "                                file_py4DSTEM = file_py4DSTEM,\n",
    "                                label_rotation_path = folder_name +'/Label_rotation.npy',\n",
    "                                label_xx_path = folder_name +'/Label_strain_xx.npy',\n",
    "                                label_yy_path = folder_name +'/Label_strain_yy.npy',\n",
    "                                label_xy_path = folder_name +'/Label_shear_xy.npy',\n",
    "                                cmap_rotation = cm.vikO,\n",
    "                                cmap_strain= cm.vik,\n",
    "                                cmap_mae=cm.vik,\n",
    "                                noise_intensity = 0,\n",
    "                                angle_shift = 25,\n",
    "                                strain_diff_range = [-0.03,0.03],\n",
    "                                strain_rotation_range = [-40,30],\n",
    "                                mae_diff_range = [-0.006,0.006],\n",
    "                                mae_rotation_range = [-0.5,0.5],\n",
    "                                label_style= 'b'\n",
    "                               )"
   ]
  },
  {
   "cell_type": "markdown",
   "id": "1df78698",
   "metadata": {},
   "source": [
    "### Visualize label map"
   ]
  },
  {
   "cell_type": "code",
   "execution_count": null,
   "id": "76a647b2",
   "metadata": {},
   "outputs": [],
   "source": [
    "visual.visual_label_map(cmap_strain = cm.vik,\n",
    "                        cmap_rotation = cm.vikO,\n",
    "                        label_style='b')"
   ]
  },
  {
   "cell_type": "markdown",
   "id": "6e32cabe",
   "metadata": {},
   "source": [
    "### Visualize strain map result"
   ]
  },
  {
   "cell_type": "code",
   "execution_count": null,
   "id": "aacec388",
   "metadata": {},
   "outputs": [],
   "source": [
    "visual.visual_strain()"
   ]
  },
  {
   "cell_type": "markdown",
   "id": "fa8af185",
   "metadata": {},
   "source": [
    "### Visualize MAE comparison "
   ]
  },
  {
   "cell_type": "code",
   "execution_count": null,
   "id": "50a8b726",
   "metadata": {},
   "outputs": [],
   "source": [
    "visual.visual_diff(label_style='b')"
   ]
  },
  {
   "cell_type": "code",
   "execution_count": 22,
   "id": "f9964b8a",
   "metadata": {},
   "outputs": [],
   "source": [
    "visual.record_performance(data_index=True,\n",
    "                          data_index_path=f'{folder_name}/simulated_4dstem_grain_index.npy',\n",
    "                          show_index_map=False,\n",
    "                          width=2)"
   ]
  },
  {
   "cell_type": "code",
   "execution_count": 23,
   "id": "768fe90c",
   "metadata": {},
   "outputs": [],
   "source": [
    "visual.add_data_2_plot()"
   ]
  },
  {
   "cell_type": "markdown",
   "id": "e33f1f47",
   "metadata": {},
   "source": [
    "# 05% Noisy 4D STEM"
   ]
  },
  {
   "cell_type": "markdown",
   "id": "519b1127",
   "metadata": {},
   "source": [
    "## Load pretraiend weight and rotation path"
   ]
  },
  {
   "cell_type": "code",
   "execution_count": 25,
   "id": "7a5e20da",
   "metadata": {},
   "outputs": [],
   "source": [
    "bkg_intensity = 0.05\n",
    "bkg_str = format(int(bkg_intensity*100),'02d')\n",
    "rotation_path = f'{folder_name}/{bkg_str}Percent_pretrained_rotation.npy'"
   ]
  },
  {
   "cell_type": "markdown",
   "id": "a81ff68d",
   "metadata": {},
   "source": [
    "## Update train class parameter for data generating "
   ]
  },
  {
   "cell_type": "code",
   "execution_count": 26,
   "id": "8c72f3d4",
   "metadata": {},
   "outputs": [],
   "source": [
    "tc.background_weight= bkg_intensity\n",
    "tc.learned_rotation = rotation_path\n",
    "# add extra rotation accoding to training strategy\n",
    "tc.adjust_learned_rotation = 0"
   ]
  },
  {
   "cell_type": "markdown",
   "id": "bd239415",
   "metadata": {},
   "source": [
    "## Generate dataset"
   ]
  },
  {
   "cell_type": "code",
   "execution_count": null,
   "id": "98607865",
   "metadata": {},
   "outputs": [],
   "source": [
    "tc.load_data()"
   ]
  },
  {
   "cell_type": "markdown",
   "id": "54bbc15c",
   "metadata": {},
   "source": [
    "## Load pretrained weight to neural network"
   ]
  },
  {
   "cell_type": "code",
   "execution_count": 28,
   "id": "90a5ddae",
   "metadata": {},
   "outputs": [],
   "source": [
    "weight_path = f\"{folder_name}/{bkg_str}percent_noisy_simulated_4dstem_pretrained_weights.pkl\"\n",
    "tc.load_pretrained_weight(weight_path)"
   ]
  },
  {
   "cell_type": "code",
   "execution_count": null,
   "id": "e22d9891",
   "metadata": {},
   "outputs": [],
   "source": [
    "tc.predict(train_process='2',\n",
    "           save_strain = True,\n",
    "           save_rotation = True,\n",
    "           file_name=bkg_intensity)"
   ]
  },
  {
   "cell_type": "markdown",
   "id": "be593240",
   "metadata": {},
   "source": [
    "## Update visual result class\n",
    "### Set hyper parameters of the class"
   ]
  },
  {
   "cell_type": "code",
   "execution_count": 24,
   "id": "19e2e0bf",
   "metadata": {},
   "outputs": [],
   "source": [
    "bkg_intensity = 0.05\n",
    "bkg_str = format(int(bkg_intensity*100),'02d')\n",
    "rotation_path = f'{folder_name}/{bkg_str}Per_2_train_process_rotation.npy'\n",
    "strain_path = f'{folder_name}/{bkg_str}Per_2_train_process_scale_shear.npy'\n",
    "rotation_5per = np.load(rotation_path)\n",
    "scale_shear_5per = np.load(strain_path)"
   ]
  },
  {
   "cell_type": "markdown",
   "id": "f0b74eef",
   "metadata": {},
   "source": [
    "### Load variable into visualization class"
   ]
  },
  {
   "cell_type": "code",
   "execution_count": 25,
   "id": "d7c6bc9c",
   "metadata": {},
   "outputs": [],
   "source": [
    "visual.file_py4DSTEM = f'{folder_name}/analysis_bg{bkg_str}per_1e5counts__strain.h5'\n",
    "visual.rotation = rotation_5per\n",
    "visual.scale_shear = scale_shear_5per\n",
    "visual.noise_intensity = bkg_intensity"
   ]
  },
  {
   "cell_type": "markdown",
   "id": "dbdade7e",
   "metadata": {},
   "source": [
    "### Reset baseline of py4DSTEM"
   ]
  },
  {
   "cell_type": "code",
   "execution_count": 26,
   "id": "be496ae4",
   "metadata": {},
   "outputs": [],
   "source": [
    "visual.reset_baseline()"
   ]
  },
  {
   "cell_type": "markdown",
   "id": "81b1fc01",
   "metadata": {},
   "source": [
    "### Shift angle to compare appropriately"
   ]
  },
  {
   "cell_type": "code",
   "execution_count": null,
   "id": "89415f99",
   "metadata": {},
   "outputs": [],
   "source": [
    "visual.reset_angle(angle_shift=-7)"
   ]
  },
  {
   "cell_type": "markdown",
   "id": "f6516d37",
   "metadata": {},
   "source": [
    "### Update polar decomposition based on new affine matrix"
   ]
  },
  {
   "cell_type": "code",
   "execution_count": null,
   "id": "94e48af7",
   "metadata": {},
   "outputs": [],
   "source": [
    "visual.reset_polar_matrix()"
   ]
  },
  {
   "cell_type": "markdown",
   "id": "4d78c042",
   "metadata": {},
   "source": [
    "### Visualize strain map result"
   ]
  },
  {
   "cell_type": "code",
   "execution_count": null,
   "id": "70d9e265",
   "metadata": {},
   "outputs": [],
   "source": [
    "visual.visual_strain()"
   ]
  },
  {
   "cell_type": "markdown",
   "id": "87742320",
   "metadata": {},
   "source": [
    "### Visualize MAE comparison"
   ]
  },
  {
   "cell_type": "code",
   "execution_count": null,
   "id": "2f1322c6",
   "metadata": {
    "scrolled": true
   },
   "outputs": [],
   "source": [
    "visual.visual_diff()"
   ]
  },
  {
   "cell_type": "code",
   "execution_count": 31,
   "id": "58072dc4",
   "metadata": {},
   "outputs": [],
   "source": [
    "visual.record_performance(data_index=True,\n",
    "                          data_index_path=f'{folder_name}/simulated_4dstem_grain_index.npy',\n",
    "                          show_index_map=False,\n",
    "                          width=2)"
   ]
  },
  {
   "cell_type": "code",
   "execution_count": 32,
   "id": "02a03e59",
   "metadata": {},
   "outputs": [],
   "source": [
    "visual.add_data_2_plot()"
   ]
  },
  {
   "cell_type": "code",
   "execution_count": null,
   "id": "fbcecdb3",
   "metadata": {},
   "outputs": [],
   "source": []
  },
  {
   "cell_type": "markdown",
   "id": "fdfe491e",
   "metadata": {},
   "source": [
    "# 10% Noisy 4D STEM"
   ]
  },
  {
   "cell_type": "markdown",
   "id": "b342c52f",
   "metadata": {},
   "source": [
    "## Load pretraiend weight and rotation path"
   ]
  },
  {
   "cell_type": "code",
   "execution_count": 39,
   "id": "5f850ee5",
   "metadata": {},
   "outputs": [],
   "source": [
    "bkg_intensity = 0.10\n",
    "bkg_str = format(int(bkg_intensity*100),'02d')\n",
    "rotation_path = f'{folder_name}/{bkg_str}Percent_pretrained_rotation.npy'"
   ]
  },
  {
   "cell_type": "markdown",
   "id": "f6975f79",
   "metadata": {},
   "source": [
    "### Add extra rotation accoding to training strategy"
   ]
  },
  {
   "cell_type": "code",
   "execution_count": 40,
   "id": "225e6ae3",
   "metadata": {},
   "outputs": [],
   "source": [
    "tc.background_weight= bkg_intensity\n",
    "tc.learned_rotation = rotation_path\n",
    "# add extra rotation accoding to training strategy\n",
    "tc.adjust_learned_rotation = -25"
   ]
  },
  {
   "cell_type": "markdown",
   "id": "6ac47baf",
   "metadata": {},
   "source": [
    "## Generate dataset"
   ]
  },
  {
   "cell_type": "code",
   "execution_count": null,
   "id": "d46f5ea8",
   "metadata": {},
   "outputs": [],
   "source": [
    "tc.load_data()"
   ]
  },
  {
   "cell_type": "markdown",
   "id": "8a8a979f",
   "metadata": {},
   "source": [
    "## Load pretrained weight to neural network"
   ]
  },
  {
   "cell_type": "code",
   "execution_count": 42,
   "id": "aa6a58b2",
   "metadata": {},
   "outputs": [],
   "source": [
    "weight_path = f\"{folder_name}/{bkg_str}percent_noisy_simulated_4dstem_pretrained_weights.pkl\"\n",
    "tc.load_pretrained_weight(weight_path)"
   ]
  },
  {
   "cell_type": "code",
   "execution_count": null,
   "id": "f08674f2",
   "metadata": {},
   "outputs": [],
   "source": [
    "tc.predict(train_process='2',\n",
    "           save_strain = True,\n",
    "           save_rotation = True,\n",
    "           file_name=bkg_intensity)"
   ]
  },
  {
   "cell_type": "markdown",
   "id": "2db71da4",
   "metadata": {},
   "source": [
    "## Update visual result class\n",
    "### Set hyper parameters of the class"
   ]
  },
  {
   "cell_type": "code",
   "execution_count": 33,
   "id": "9857aaf4",
   "metadata": {},
   "outputs": [],
   "source": [
    "bkg_intensity = 0.10\n",
    "bkg_str = format(int(bkg_intensity*100),'02d')\n",
    "rotation_path = f'{folder_name}/{bkg_str}Per_2_train_process_rotation.npy'\n",
    "strain_path = f'{folder_name}/{bkg_str}Per_2_train_process_scale_shear.npy'\n",
    "rotation_10per = np.load(rotation_path)\n",
    "scale_shear_10per = np.load(strain_path)"
   ]
  },
  {
   "cell_type": "markdown",
   "id": "9859bd54",
   "metadata": {},
   "source": [
    "### Load variable into visualization class"
   ]
  },
  {
   "cell_type": "code",
   "execution_count": 34,
   "id": "ef88bf06",
   "metadata": {},
   "outputs": [],
   "source": [
    "visual.file_py4DSTEM = f'{folder_name}/analysis_bg{bkg_str}per_1e5counts__strain.h5'\n",
    "visual.rotation = rotation_10per\n",
    "visual.scale_shear = scale_shear_10per\n",
    "visual.noise_intensity = bkg_intensity"
   ]
  },
  {
   "cell_type": "markdown",
   "id": "c51b7ace",
   "metadata": {},
   "source": [
    "### Reset baseline of py4DSTEM"
   ]
  },
  {
   "cell_type": "code",
   "execution_count": 35,
   "id": "4d6ec51c",
   "metadata": {},
   "outputs": [],
   "source": [
    "visual.reset_baseline()"
   ]
  },
  {
   "cell_type": "markdown",
   "id": "30b10104",
   "metadata": {},
   "source": [
    "### Shift angle to compare appropriately"
   ]
  },
  {
   "cell_type": "code",
   "execution_count": null,
   "id": "9935e779",
   "metadata": {},
   "outputs": [],
   "source": [
    "visual.reset_angle(angle_shift=-5)"
   ]
  },
  {
   "cell_type": "markdown",
   "id": "e7128320",
   "metadata": {},
   "source": [
    "### Update polar decomposition based on new affine matrix"
   ]
  },
  {
   "cell_type": "code",
   "execution_count": null,
   "id": "5a2efe06",
   "metadata": {},
   "outputs": [],
   "source": [
    "visual.reset_polar_matrix()"
   ]
  },
  {
   "cell_type": "markdown",
   "id": "f9790313",
   "metadata": {},
   "source": [
    "### Visualize strain result"
   ]
  },
  {
   "cell_type": "code",
   "execution_count": null,
   "id": "85e9e596",
   "metadata": {},
   "outputs": [],
   "source": [
    "visual.visual_strain()"
   ]
  },
  {
   "cell_type": "markdown",
   "id": "3d1a97c9",
   "metadata": {},
   "source": [
    "### visualize MAE comparison"
   ]
  },
  {
   "cell_type": "code",
   "execution_count": null,
   "id": "f8a48776",
   "metadata": {
    "scrolled": true
   },
   "outputs": [],
   "source": [
    "visual.visual_diff()"
   ]
  },
  {
   "cell_type": "code",
   "execution_count": 40,
   "id": "f2d4c839",
   "metadata": {},
   "outputs": [],
   "source": [
    "visual.record_performance(data_index=True,\n",
    "                          data_index_path=f'{folder_name}/simulated_4dstem_grain_index.npy',\n",
    "                          show_index_map=False,\n",
    "                          width=2)"
   ]
  },
  {
   "cell_type": "code",
   "execution_count": 41,
   "id": "2fbcf518",
   "metadata": {},
   "outputs": [],
   "source": [
    "visual.add_data_2_plot()"
   ]
  },
  {
   "cell_type": "code",
   "execution_count": null,
   "id": "4f6fc003",
   "metadata": {},
   "outputs": [],
   "source": []
  },
  {
   "cell_type": "markdown",
   "id": "48564cb0",
   "metadata": {},
   "source": [
    "# 15% Noisy 4D STEM"
   ]
  },
  {
   "cell_type": "markdown",
   "id": "cacee455",
   "metadata": {},
   "source": [
    "## Load pretraiend weight and rotation path"
   ]
  },
  {
   "cell_type": "code",
   "execution_count": 53,
   "id": "144bdff1",
   "metadata": {},
   "outputs": [],
   "source": [
    "bkg_intensity = 0.15\n",
    "bkg_str = format(int(bkg_intensity*100),'02d')\n",
    "rotation_path = f'{folder_name}/{bkg_str}Percent_pretrained_rotation.npy'"
   ]
  },
  {
   "cell_type": "markdown",
   "id": "726b6b10",
   "metadata": {},
   "source": [
    "### Add extra rotation accoding to training strategy"
   ]
  },
  {
   "cell_type": "code",
   "execution_count": 54,
   "id": "7f9193e3",
   "metadata": {},
   "outputs": [],
   "source": [
    "tc.background_weight= bkg_intensity\n",
    "tc.learned_rotation = rotation_path\n",
    "# add extra rotation accoding to training strategy\n",
    "tc.adjust_learned_rotation = 0"
   ]
  },
  {
   "cell_type": "markdown",
   "id": "dafba9a8",
   "metadata": {},
   "source": [
    "## Generate dataset"
   ]
  },
  {
   "cell_type": "code",
   "execution_count": null,
   "id": "a79b38e5",
   "metadata": {},
   "outputs": [],
   "source": [
    "tc.load_data()"
   ]
  },
  {
   "cell_type": "markdown",
   "id": "ae3097f8",
   "metadata": {},
   "source": [
    "## Load pretrained weight to neural network"
   ]
  },
  {
   "cell_type": "code",
   "execution_count": 56,
   "id": "8e28737e",
   "metadata": {},
   "outputs": [],
   "source": [
    "weight_path = f\"{folder_name}/{bkg_str}percent_noisy_simulated_4dstem_pretrained_weights.pkl\"\n",
    "tc.load_pretrained_weight(weight_path)"
   ]
  },
  {
   "cell_type": "code",
   "execution_count": null,
   "id": "91da00e4",
   "metadata": {},
   "outputs": [],
   "source": [
    "tc.predict(train_process='2',\n",
    "           save_strain = True,\n",
    "           save_rotation = True,\n",
    "           file_name=bkg_intensity)"
   ]
  },
  {
   "cell_type": "markdown",
   "id": "07aabd3b",
   "metadata": {},
   "source": [
    "## Update visual result class\n",
    "### Set hyper parameters of the class"
   ]
  },
  {
   "cell_type": "code",
   "execution_count": 42,
   "id": "5dd17596",
   "metadata": {},
   "outputs": [],
   "source": [
    "bkg_intensity = 0.15\n",
    "bkg_str = format(int(bkg_intensity*100),'02d')\n",
    "rotation_path = f'{folder_name}/{bkg_str}Per_2_train_process_rotation.npy'\n",
    "strain_path = f'{folder_name}/{bkg_str}Per_2_train_process_scale_shear.npy'\n",
    "rotation_15per = np.load(rotation_path)\n",
    "scale_shear_15per = np.load(strain_path)"
   ]
  },
  {
   "cell_type": "markdown",
   "id": "fbaf06a6",
   "metadata": {},
   "source": [
    "### Load variable into visualization class"
   ]
  },
  {
   "cell_type": "code",
   "execution_count": 43,
   "id": "c7b41e2e",
   "metadata": {},
   "outputs": [],
   "source": [
    "visual.file_py4DSTEM = f'{folder_name}/analysis_bg{bkg_str}per_1e5counts__strain.h5'\n",
    "visual.rotation = rotation_15per\n",
    "visual.scale_shear = scale_shear_15per\n",
    "visual.noise_intensity = bkg_intensity"
   ]
  },
  {
   "cell_type": "markdown",
   "id": "918b33c9",
   "metadata": {},
   "source": [
    "### Reset baseline of py4DSTEM"
   ]
  },
  {
   "cell_type": "code",
   "execution_count": 44,
   "id": "80234136",
   "metadata": {},
   "outputs": [],
   "source": [
    "visual.reset_baseline()"
   ]
  },
  {
   "cell_type": "markdown",
   "id": "3dc2bc9c",
   "metadata": {},
   "source": [
    "### Shift angle to compare appropriately"
   ]
  },
  {
   "cell_type": "code",
   "execution_count": null,
   "id": "394ea2d7",
   "metadata": {},
   "outputs": [],
   "source": [
    "visual.reset_angle(angle_shift=-8)"
   ]
  },
  {
   "cell_type": "markdown",
   "id": "ba110df5",
   "metadata": {},
   "source": [
    "### Update polar decomposition based on new affine matrix"
   ]
  },
  {
   "cell_type": "code",
   "execution_count": null,
   "id": "7c8ad95d",
   "metadata": {},
   "outputs": [],
   "source": [
    "visual.reset_polar_matrix()"
   ]
  },
  {
   "cell_type": "markdown",
   "id": "f3fd9937",
   "metadata": {},
   "source": [
    "### Visualize strain result"
   ]
  },
  {
   "cell_type": "code",
   "execution_count": null,
   "id": "cc33d56a",
   "metadata": {},
   "outputs": [],
   "source": [
    "visual.visual_strain()"
   ]
  },
  {
   "cell_type": "markdown",
   "id": "b327ddb1",
   "metadata": {},
   "source": [
    "### visualize MAE comparison"
   ]
  },
  {
   "cell_type": "code",
   "execution_count": null,
   "id": "74446f1c",
   "metadata": {
    "scrolled": true
   },
   "outputs": [],
   "source": [
    "visual.visual_diff()"
   ]
  },
  {
   "cell_type": "code",
   "execution_count": 49,
   "id": "c7e99370",
   "metadata": {},
   "outputs": [],
   "source": [
    "visual.record_performance(data_index=True,\n",
    "                          data_index_path=f'{folder_name}/simulated_4dstem_grain_index.npy',\n",
    "                          show_index_map=False,\n",
    "                          width=2)"
   ]
  },
  {
   "cell_type": "code",
   "execution_count": 50,
   "id": "4a64604b",
   "metadata": {},
   "outputs": [],
   "source": [
    "visual.add_data_2_plot()"
   ]
  },
  {
   "cell_type": "code",
   "execution_count": null,
   "id": "ed9e9505",
   "metadata": {},
   "outputs": [],
   "source": []
  },
  {
   "cell_type": "markdown",
   "id": "c75f6e97",
   "metadata": {},
   "source": [
    "#  20% Noisy 4D STEM "
   ]
  },
  {
   "cell_type": "markdown",
   "id": "c01f13df",
   "metadata": {},
   "source": [
    "## Load pretraiend weight and rotation path"
   ]
  },
  {
   "cell_type": "code",
   "execution_count": null,
   "id": "653cdd33",
   "metadata": {},
   "outputs": [],
   "source": [
    "bkg_intensity = 0.20\n",
    "bkg_str = format(int(bkg_intensity*100),'02d')\n",
    "rotation_path = f'{folder_name}/{bkg_str}Percent_pretrained_rotation.npy'"
   ]
  },
  {
   "cell_type": "markdown",
   "id": "b3dc2bb7",
   "metadata": {},
   "source": [
    "### Add extra rotation accoding to training strategy"
   ]
  },
  {
   "cell_type": "code",
   "execution_count": null,
   "id": "37606d9a",
   "metadata": {},
   "outputs": [],
   "source": [
    "tc.background_weight= bkg_intensity\n",
    "tc.learned_rotation = rotation_path\n",
    "# add extra rotation accoding to training strategy\n",
    "tc.adjust_learned_rotation = -20"
   ]
  },
  {
   "cell_type": "markdown",
   "id": "9d40819e",
   "metadata": {},
   "source": [
    "## Generate dataset"
   ]
  },
  {
   "cell_type": "code",
   "execution_count": null,
   "id": "e1616ea1",
   "metadata": {},
   "outputs": [],
   "source": [
    "tc.load_data()"
   ]
  },
  {
   "cell_type": "markdown",
   "id": "180c780f",
   "metadata": {},
   "source": [
    "## Load pretrained weight to neural network"
   ]
  },
  {
   "cell_type": "code",
   "execution_count": null,
   "id": "7c0f11ed",
   "metadata": {},
   "outputs": [],
   "source": [
    "weight_path = f\"{folder_name}/{bkg_str}percent_noisy_simulated_4dstem_pretrained_weights.pkl\"\n",
    "tc.load_pretrained_weight(weight_path)"
   ]
  },
  {
   "cell_type": "code",
   "execution_count": null,
   "id": "3139fc59",
   "metadata": {},
   "outputs": [],
   "source": [
    "tc.predict(train_process='2',\n",
    "           save_strain = True,\n",
    "           save_rotation = True,\n",
    "           file_name=bkg_intensity)"
   ]
  },
  {
   "cell_type": "markdown",
   "id": "4bda7a8d",
   "metadata": {},
   "source": [
    "## Update visual result class\n",
    "### Set hyper parameters of the class"
   ]
  },
  {
   "cell_type": "code",
   "execution_count": 51,
   "id": "3a7c4f36",
   "metadata": {},
   "outputs": [],
   "source": [
    "bkg_intensity = 0.20\n",
    "bkg_str = format(int(bkg_intensity*100),'02d')\n",
    "rotation_path = f'{folder_name}/{bkg_str}Per_2_train_process_rotation.npy'\n",
    "strain_path = f'{folder_name}/{bkg_str}Per_2_train_process_scale_shear.npy'\n",
    "rotation_20per = np.load(rotation_path)\n",
    "scale_shear_20per = np.load(strain_path)"
   ]
  },
  {
   "cell_type": "markdown",
   "id": "4233c836",
   "metadata": {},
   "source": [
    "### Load variable into visualization class"
   ]
  },
  {
   "cell_type": "code",
   "execution_count": 52,
   "id": "a1c129cb",
   "metadata": {},
   "outputs": [],
   "source": [
    "visual.file_py4DSTEM = f'{folder_name}/analysis_bg{bkg_str}per_1e5counts__strain.h5'\n",
    "visual.rotation = rotation_20per\n",
    "visual.scale_shear = scale_shear_20per\n",
    "visual.noise_intensity = bkg_intensity"
   ]
  },
  {
   "cell_type": "markdown",
   "id": "379364f7",
   "metadata": {},
   "source": [
    "### Reset baseline of py4DSTEM"
   ]
  },
  {
   "cell_type": "code",
   "execution_count": 53,
   "id": "a6e56dd9",
   "metadata": {},
   "outputs": [],
   "source": [
    "visual.reset_baseline()"
   ]
  },
  {
   "cell_type": "markdown",
   "id": "c34f86de",
   "metadata": {},
   "source": [
    "### Shift angle to compare appropriately"
   ]
  },
  {
   "cell_type": "code",
   "execution_count": null,
   "id": "5b00dbc2",
   "metadata": {},
   "outputs": [],
   "source": [
    "visual.reset_angle(angle_shift=-7)"
   ]
  },
  {
   "cell_type": "markdown",
   "id": "74a9cd28",
   "metadata": {},
   "source": [
    "### Update polar decomposition based on new affine matrix"
   ]
  },
  {
   "cell_type": "code",
   "execution_count": null,
   "id": "6fc66aa3",
   "metadata": {},
   "outputs": [],
   "source": [
    "visual.reset_polar_matrix()"
   ]
  },
  {
   "cell_type": "markdown",
   "id": "1abe40c1",
   "metadata": {},
   "source": [
    "### Visualize strain result"
   ]
  },
  {
   "cell_type": "code",
   "execution_count": null,
   "id": "23cb371a",
   "metadata": {},
   "outputs": [],
   "source": [
    "visual.visual_strain()"
   ]
  },
  {
   "cell_type": "markdown",
   "id": "5f53308b",
   "metadata": {},
   "source": [
    "### Visualize MAE comparison"
   ]
  },
  {
   "cell_type": "code",
   "execution_count": null,
   "id": "57bca32d",
   "metadata": {
    "scrolled": true
   },
   "outputs": [],
   "source": [
    "visual.visual_diff()"
   ]
  },
  {
   "cell_type": "code",
   "execution_count": 58,
   "id": "4b759f8a",
   "metadata": {},
   "outputs": [],
   "source": [
    "visual.record_performance(data_index=True,\n",
    "                          data_index_path=f'{folder_name}/simulated_4dstem_grain_index.npy',\n",
    "                          show_index_map=False,\n",
    "                          width=2)"
   ]
  },
  {
   "cell_type": "code",
   "execution_count": 59,
   "id": "4fece787",
   "metadata": {},
   "outputs": [],
   "source": [
    "visual.add_data_2_plot()"
   ]
  },
  {
   "cell_type": "code",
   "execution_count": null,
   "id": "e1189e08",
   "metadata": {},
   "outputs": [],
   "source": []
  },
  {
   "cell_type": "markdown",
   "id": "826549ac",
   "metadata": {},
   "source": [
    "# 25% Noisy 4D STEM"
   ]
  },
  {
   "cell_type": "markdown",
   "id": "7e59dd80",
   "metadata": {},
   "source": [
    "## Load pretraiend weight and rotation path"
   ]
  },
  {
   "cell_type": "code",
   "execution_count": null,
   "id": "821260eb",
   "metadata": {},
   "outputs": [],
   "source": [
    "bkg_intensity = 0.25\n",
    "bkg_str = format(int(bkg_intensity*100),'02d')\n",
    "rotation_path = f'{folder_name}/{bkg_str}Percent_pretrained_rotation.npy'"
   ]
  },
  {
   "cell_type": "markdown",
   "id": "e2208ae8",
   "metadata": {},
   "source": [
    "### Add extra rotation accoding to training strategy"
   ]
  },
  {
   "cell_type": "code",
   "execution_count": null,
   "id": "777f0b91",
   "metadata": {},
   "outputs": [],
   "source": [
    "tc.background_weight= bkg_intensity\n",
    "tc.learned_rotation = rotation_path\n",
    "# add extra rotation accoding to training strategy\n",
    "tc.adjust_learned_rotation = -15"
   ]
  },
  {
   "cell_type": "markdown",
   "id": "01f94ede",
   "metadata": {},
   "source": [
    "## Generate dataset"
   ]
  },
  {
   "cell_type": "code",
   "execution_count": null,
   "id": "29be2ce9",
   "metadata": {},
   "outputs": [],
   "source": [
    "tc.load_data()"
   ]
  },
  {
   "cell_type": "markdown",
   "id": "4caa128e",
   "metadata": {},
   "source": [
    "## Load pretrained weight to neural network"
   ]
  },
  {
   "cell_type": "code",
   "execution_count": null,
   "id": "3b6b2aad",
   "metadata": {},
   "outputs": [],
   "source": [
    "weight_path = f\"{folder_name}/{bkg_str}percent_noisy_simulated_4dstem_pretrained_weights.pkl\"\n",
    "tc.load_pretrained_weight(weight_path)"
   ]
  },
  {
   "cell_type": "code",
   "execution_count": null,
   "id": "79b4a0e5",
   "metadata": {},
   "outputs": [],
   "source": [
    "tc.predict(train_process='2',\n",
    "           save_strain = True,\n",
    "           save_rotation = True,\n",
    "           file_name=bkg_intensity)"
   ]
  },
  {
   "cell_type": "markdown",
   "id": "25b1f087",
   "metadata": {},
   "source": [
    "## Update visual result class\n",
    "### Set hyper parameters of the class"
   ]
  },
  {
   "cell_type": "code",
   "execution_count": 60,
   "id": "0cf00c82",
   "metadata": {},
   "outputs": [],
   "source": [
    "bkg_intensity = 0.25\n",
    "bkg_str = format(int(bkg_intensity*100),'02d')\n",
    "rotation_path = f'{folder_name}/{bkg_str}Per_2_train_process_rotation.npy'\n",
    "strain_path = f'{folder_name}/{bkg_str}Per_2_train_process_scale_shear.npy'\n",
    "rotation_25per = np.load(rotation_path)\n",
    "scale_shear_25per = np.load(strain_path)"
   ]
  },
  {
   "cell_type": "markdown",
   "id": "09d0a954",
   "metadata": {},
   "source": [
    "### Load variable into visualization class"
   ]
  },
  {
   "cell_type": "code",
   "execution_count": 61,
   "id": "ab2d2a50",
   "metadata": {},
   "outputs": [],
   "source": [
    "visual.file_py4DSTEM = f'{folder_name}/analysis_bg{bkg_str}per_1e5counts__strain.h5'\n",
    "visual.rotation = rotation_25per\n",
    "visual.scale_shear = scale_shear_25per\n",
    "visual.noise_intensity = bkg_intensity"
   ]
  },
  {
   "cell_type": "markdown",
   "id": "e85c4847",
   "metadata": {},
   "source": [
    "### Reset baseline of py4DSTEM"
   ]
  },
  {
   "cell_type": "code",
   "execution_count": 62,
   "id": "8e32ac3a",
   "metadata": {},
   "outputs": [],
   "source": [
    "visual.reset_baseline()"
   ]
  },
  {
   "cell_type": "markdown",
   "id": "6c24ffe2",
   "metadata": {},
   "source": [
    "### Shift angle to compare appropriately"
   ]
  },
  {
   "cell_type": "code",
   "execution_count": null,
   "id": "93a479d7",
   "metadata": {},
   "outputs": [],
   "source": [
    "visual.reset_angle(angle_shift=-9)"
   ]
  },
  {
   "cell_type": "markdown",
   "id": "7953d578",
   "metadata": {},
   "source": [
    "### Update polar decomposition based on new affine matrix"
   ]
  },
  {
   "cell_type": "code",
   "execution_count": null,
   "id": "40881222",
   "metadata": {},
   "outputs": [],
   "source": [
    "visual.reset_polar_matrix()"
   ]
  },
  {
   "cell_type": "markdown",
   "id": "2d2b4660",
   "metadata": {},
   "source": [
    "### Visualize strain result"
   ]
  },
  {
   "cell_type": "code",
   "execution_count": null,
   "id": "90f08dda",
   "metadata": {},
   "outputs": [],
   "source": [
    "visual.visual_strain()"
   ]
  },
  {
   "cell_type": "markdown",
   "id": "22567596",
   "metadata": {},
   "source": [
    "### Visualize MAE comparison"
   ]
  },
  {
   "cell_type": "code",
   "execution_count": null,
   "id": "e727f998",
   "metadata": {
    "scrolled": true
   },
   "outputs": [],
   "source": [
    "visual.visual_diff()"
   ]
  },
  {
   "cell_type": "code",
   "execution_count": 67,
   "id": "ddb545df",
   "metadata": {},
   "outputs": [],
   "source": [
    "visual.record_performance(data_index=True,\n",
    "                          data_index_path=f'{folder_name}/simulated_4dstem_grain_index.npy',\n",
    "                          show_index_map=False,\n",
    "                          width=2)"
   ]
  },
  {
   "cell_type": "code",
   "execution_count": 68,
   "id": "ae2cd2a7",
   "metadata": {},
   "outputs": [],
   "source": [
    "visual.add_data_2_plot()"
   ]
  },
  {
   "cell_type": "code",
   "execution_count": null,
   "id": "b8d85414",
   "metadata": {},
   "outputs": [],
   "source": []
  },
  {
   "cell_type": "markdown",
   "id": "024e72e7",
   "metadata": {},
   "source": [
    "# Visualize 30Percent Background"
   ]
  },
  {
   "cell_type": "markdown",
   "id": "fe33392d",
   "metadata": {},
   "source": [
    "## Load pretraiend weight and rotation path"
   ]
  },
  {
   "cell_type": "code",
   "execution_count": null,
   "id": "a971a279",
   "metadata": {},
   "outputs": [],
   "source": [
    "bkg_intensity = 0.30\n",
    "bkg_str = format(int(bkg_intensity*100),'02d')\n",
    "rotation_path = f'{folder_name}/{bkg_str}Percent_pretrained_rotation.npy'"
   ]
  },
  {
   "cell_type": "markdown",
   "id": "89d2b19f",
   "metadata": {},
   "source": [
    "### Add extra rotation accoding to training strategy"
   ]
  },
  {
   "cell_type": "code",
   "execution_count": null,
   "id": "fb6aabee",
   "metadata": {},
   "outputs": [],
   "source": [
    "tc.background_weight= bkg_intensity\n",
    "tc.learned_rotation = rotation_path\n",
    "# add extra rotation accoding to training strategy\n",
    "tc.adjust_learned_rotation = -30"
   ]
  },
  {
   "cell_type": "markdown",
   "id": "bd7ee280",
   "metadata": {},
   "source": [
    "## Generate dataset"
   ]
  },
  {
   "cell_type": "code",
   "execution_count": null,
   "id": "f678527c",
   "metadata": {},
   "outputs": [],
   "source": [
    "tc.load_data()"
   ]
  },
  {
   "cell_type": "markdown",
   "id": "fa50d681",
   "metadata": {},
   "source": [
    "## Load pretrained weight to neural network"
   ]
  },
  {
   "cell_type": "code",
   "execution_count": null,
   "id": "b4b17fa2",
   "metadata": {},
   "outputs": [],
   "source": [
    "weight_path = f\"{folder_name}/{bkg_str}percent_noisy_simulated_4dstem_pretrained_weights.pkl\"\n",
    "tc.load_pretrained_weight(weight_path)"
   ]
  },
  {
   "cell_type": "code",
   "execution_count": null,
   "id": "99a6ffd6",
   "metadata": {},
   "outputs": [],
   "source": [
    "tc.predict(train_process='2',\n",
    "           save_strain = True,\n",
    "           save_rotation = True,\n",
    "           file_name=bkg_intensity)"
   ]
  },
  {
   "cell_type": "markdown",
   "id": "ec1fa3aa",
   "metadata": {},
   "source": [
    "## Update visual result class\n",
    "### Set hyper parameters of the class"
   ]
  },
  {
   "cell_type": "code",
   "execution_count": 69,
   "id": "1cef6d10",
   "metadata": {},
   "outputs": [],
   "source": [
    "bkg_intensity = 0.30\n",
    "bkg_str = format(int(bkg_intensity*100),'02d')\n",
    "rotation_path = f'{folder_name}/{bkg_str}Per_2_train_process_rotation.npy'\n",
    "strain_path = f'{folder_name}/{bkg_str}Per_2_train_process_scale_shear.npy'\n",
    "rotation_30per = np.load(rotation_path)\n",
    "scale_shear_30per = np.load(strain_path)"
   ]
  },
  {
   "cell_type": "markdown",
   "id": "57c487ba",
   "metadata": {},
   "source": [
    "### Load variable into visualization class"
   ]
  },
  {
   "cell_type": "code",
   "execution_count": 70,
   "id": "f38485be",
   "metadata": {},
   "outputs": [],
   "source": [
    "visual.file_py4DSTEM = f'{folder_name}/analysis_bg{bkg_str}per_1e5counts__strain.h5'\n",
    "visual.rotation = rotation_30per\n",
    "visual.scale_shear = scale_shear_30per\n",
    "visual.noise_intensity = bkg_intensity"
   ]
  },
  {
   "cell_type": "markdown",
   "id": "79beb5c7",
   "metadata": {},
   "source": [
    "### Reset baseline of py4DSTEM"
   ]
  },
  {
   "cell_type": "code",
   "execution_count": 71,
   "id": "5c2b2162",
   "metadata": {},
   "outputs": [],
   "source": [
    "visual.reset_baseline()"
   ]
  },
  {
   "cell_type": "markdown",
   "id": "d1519d5f",
   "metadata": {},
   "source": [
    "### Shift angle to compare appropriately"
   ]
  },
  {
   "cell_type": "code",
   "execution_count": null,
   "id": "5b4e24fd",
   "metadata": {},
   "outputs": [],
   "source": [
    "visual.reset_angle(angle_shift=-9)"
   ]
  },
  {
   "cell_type": "markdown",
   "id": "502e5655",
   "metadata": {},
   "source": [
    "### Update polar decomposition based on new affine matrix"
   ]
  },
  {
   "cell_type": "code",
   "execution_count": null,
   "id": "195010d8",
   "metadata": {},
   "outputs": [],
   "source": [
    "visual.reset_polar_matrix()"
   ]
  },
  {
   "cell_type": "markdown",
   "id": "0ef08e81",
   "metadata": {},
   "source": [
    "### Visualize strain result"
   ]
  },
  {
   "cell_type": "code",
   "execution_count": null,
   "id": "d6725b21",
   "metadata": {},
   "outputs": [],
   "source": [
    "visual.visual_strain()"
   ]
  },
  {
   "cell_type": "markdown",
   "id": "996f83a3",
   "metadata": {},
   "source": [
    "### Visualize MAE comparison"
   ]
  },
  {
   "cell_type": "code",
   "execution_count": null,
   "id": "4ee6daee",
   "metadata": {
    "scrolled": true
   },
   "outputs": [],
   "source": [
    "visual.visual_diff()"
   ]
  },
  {
   "cell_type": "code",
   "execution_count": 76,
   "id": "b7c42136",
   "metadata": {},
   "outputs": [],
   "source": [
    "visual.record_performance(data_index=True,\n",
    "                          data_index_path=f'{folder_name}/simulated_4dstem_grain_index.npy',\n",
    "                          show_index_map=False,\n",
    "                          width=2)"
   ]
  },
  {
   "cell_type": "code",
   "execution_count": 77,
   "id": "83583d92",
   "metadata": {},
   "outputs": [],
   "source": [
    "visual.add_data_2_plot()"
   ]
  },
  {
   "cell_type": "code",
   "execution_count": null,
   "id": "d6e40470",
   "metadata": {},
   "outputs": [],
   "source": []
  },
  {
   "cell_type": "markdown",
   "id": "c92d2cc4",
   "metadata": {},
   "source": [
    "# Visualize 35Percent Background"
   ]
  },
  {
   "cell_type": "markdown",
   "id": "109207ba",
   "metadata": {},
   "source": [
    "## Load pretraiend weight and rotation path"
   ]
  },
  {
   "cell_type": "code",
   "execution_count": null,
   "id": "ec1926fb",
   "metadata": {},
   "outputs": [],
   "source": [
    "bkg_intensity = 0.35\n",
    "bkg_str = format(int(bkg_intensity*100),'02d')\n",
    "rotation_path = f'{folder_name}/{bkg_str}Percent_pretrained_rotation.npy'"
   ]
  },
  {
   "cell_type": "markdown",
   "id": "9dc50f45",
   "metadata": {},
   "source": [
    "### Add extra rotation accoding to training strategy"
   ]
  },
  {
   "cell_type": "code",
   "execution_count": null,
   "id": "21749cf4",
   "metadata": {},
   "outputs": [],
   "source": [
    "tc.background_weight= bkg_intensity\n",
    "tc.learned_rotation = rotation_path\n",
    "# add extra rotation accoding to training strategy\n",
    "tc.adjust_learned_rotation = -5"
   ]
  },
  {
   "cell_type": "markdown",
   "id": "ee40b66d",
   "metadata": {},
   "source": [
    "## Generate dataset"
   ]
  },
  {
   "cell_type": "code",
   "execution_count": null,
   "id": "6bd02290",
   "metadata": {},
   "outputs": [],
   "source": [
    "tc.load_data()"
   ]
  },
  {
   "cell_type": "markdown",
   "id": "412b0fab",
   "metadata": {},
   "source": [
    "## Load pretrained weight to neural network"
   ]
  },
  {
   "cell_type": "code",
   "execution_count": null,
   "id": "786ae21d",
   "metadata": {},
   "outputs": [],
   "source": [
    "weight_path = f\"{folder_name}/{bkg_str}percent_noisy_simulated_4dstem_pretrained_weights.pkl\"\n",
    "tc.load_pretrained_weight(weight_path)"
   ]
  },
  {
   "cell_type": "code",
   "execution_count": null,
   "id": "7ca7280b",
   "metadata": {},
   "outputs": [],
   "source": [
    "tc.predict(train_process='2',\n",
    "           save_strain = True,\n",
    "           save_rotation = True,\n",
    "           file_name=bkg_intensity)"
   ]
  },
  {
   "cell_type": "markdown",
   "id": "13e75eb4",
   "metadata": {},
   "source": [
    "## Update visual result class\n",
    "### Set hyper parameters of the class"
   ]
  },
  {
   "cell_type": "code",
   "execution_count": 78,
   "id": "1b3e85ab",
   "metadata": {},
   "outputs": [],
   "source": [
    "bkg_intensity = 0.35\n",
    "bkg_str = format(int(bkg_intensity*100),'02d')\n",
    "rotation_path = f'{folder_name}/{bkg_str}Per_2_train_process_rotation.npy'\n",
    "strain_path = f'{folder_name}/{bkg_str}Per_2_train_process_scale_shear.npy'\n",
    "rotation_35per = np.load(rotation_path)\n",
    "scale_shear_35per = np.load(strain_path)"
   ]
  },
  {
   "cell_type": "markdown",
   "id": "2278dd83",
   "metadata": {},
   "source": [
    "### Load variable into visualization class"
   ]
  },
  {
   "cell_type": "code",
   "execution_count": 79,
   "id": "19d1b8e0",
   "metadata": {},
   "outputs": [],
   "source": [
    "visual.file_py4DSTEM = f'{folder_name}/analysis_bg{bkg_str}per_1e5counts__strain.h5'\n",
    "visual.rotation = rotation_35per\n",
    "visual.scale_shear = scale_shear_35per\n",
    "visual.noise_intensity = bkg_intensity"
   ]
  },
  {
   "cell_type": "markdown",
   "id": "879c0a62",
   "metadata": {},
   "source": [
    "### Reset baseline of py4DSTEM"
   ]
  },
  {
   "cell_type": "code",
   "execution_count": 80,
   "id": "6fa68c96",
   "metadata": {},
   "outputs": [],
   "source": [
    "visual.reset_baseline()"
   ]
  },
  {
   "cell_type": "markdown",
   "id": "7f2d304f",
   "metadata": {},
   "source": [
    "### Shift angle to compare appropriately"
   ]
  },
  {
   "cell_type": "code",
   "execution_count": null,
   "id": "6d694c75",
   "metadata": {},
   "outputs": [],
   "source": [
    "visual.reset_angle(angle_shift=-6)"
   ]
  },
  {
   "cell_type": "markdown",
   "id": "409e111c",
   "metadata": {},
   "source": [
    "### Update polar decomposition based on new affine matrix"
   ]
  },
  {
   "cell_type": "code",
   "execution_count": null,
   "id": "b0daadd7",
   "metadata": {},
   "outputs": [],
   "source": [
    "visual.reset_polar_matrix()"
   ]
  },
  {
   "cell_type": "markdown",
   "id": "f2e0f264",
   "metadata": {},
   "source": [
    "### Visualize strain result"
   ]
  },
  {
   "cell_type": "code",
   "execution_count": null,
   "id": "015755c7",
   "metadata": {},
   "outputs": [],
   "source": [
    "visual.visual_strain()"
   ]
  },
  {
   "cell_type": "markdown",
   "id": "8ba53f40",
   "metadata": {},
   "source": [
    "### visualize MAE comparison"
   ]
  },
  {
   "cell_type": "code",
   "execution_count": null,
   "id": "25408de9",
   "metadata": {
    "scrolled": true
   },
   "outputs": [],
   "source": [
    "visual.visual_diff()"
   ]
  },
  {
   "cell_type": "code",
   "execution_count": 85,
   "id": "02512b71",
   "metadata": {},
   "outputs": [],
   "source": [
    "visual.record_performance(data_index=True,\n",
    "                          data_index_path=f'{folder_name}/simulated_4dstem_grain_index.npy',\n",
    "                          show_index_map=False,\n",
    "                          width=2)"
   ]
  },
  {
   "cell_type": "code",
   "execution_count": 86,
   "id": "54d28035",
   "metadata": {},
   "outputs": [],
   "source": [
    "visual.add_data_2_plot()"
   ]
  },
  {
   "cell_type": "code",
   "execution_count": null,
   "id": "84cac635",
   "metadata": {},
   "outputs": [],
   "source": []
  },
  {
   "cell_type": "markdown",
   "id": "0a4bcfa3",
   "metadata": {},
   "source": [
    "# Visualize 40Percent Background"
   ]
  },
  {
   "cell_type": "markdown",
   "id": "b68e7aef",
   "metadata": {},
   "source": [
    "## Load pretraiend weight and rotation path"
   ]
  },
  {
   "cell_type": "code",
   "execution_count": null,
   "id": "06a40508",
   "metadata": {},
   "outputs": [],
   "source": [
    "bkg_intensity = 0.40\n",
    "bkg_str = format(int(bkg_intensity*100),'02d')\n",
    "rotation_path = f'{folder_name}/{bkg_str}Percent_pretrained_rotation.npy'"
   ]
  },
  {
   "cell_type": "markdown",
   "id": "5d36ee1e",
   "metadata": {},
   "source": [
    "### Add extra rotation accoding to training strategy"
   ]
  },
  {
   "cell_type": "code",
   "execution_count": null,
   "id": "3a1b568f",
   "metadata": {},
   "outputs": [],
   "source": [
    "tc.background_weight= bkg_intensity\n",
    "tc.learned_rotation = rotation_path\n",
    "# add extra rotation accoding to training strategy\n",
    "tc.adjust_learned_rotation = -25"
   ]
  },
  {
   "cell_type": "markdown",
   "id": "5f6d144c",
   "metadata": {},
   "source": [
    "## Generate dataset"
   ]
  },
  {
   "cell_type": "code",
   "execution_count": null,
   "id": "ab6f5a2d",
   "metadata": {},
   "outputs": [],
   "source": [
    "tc.load_data()"
   ]
  },
  {
   "cell_type": "markdown",
   "id": "913a45a0",
   "metadata": {},
   "source": [
    "## Load pretrained weight to neural network"
   ]
  },
  {
   "cell_type": "code",
   "execution_count": null,
   "id": "90fe8c2f",
   "metadata": {},
   "outputs": [],
   "source": [
    "weight_path = f\"{folder_name}/{bkg_str}percent_noisy_simulated_4dstem_pretrained_weights.pkl\"\n",
    "tc.load_pretrained_weight(weight_path)"
   ]
  },
  {
   "cell_type": "code",
   "execution_count": null,
   "id": "0275d734",
   "metadata": {},
   "outputs": [],
   "source": [
    "tc.predict(train_process='2',\n",
    "           save_strain = True,\n",
    "           save_rotation = True,\n",
    "           file_name=bkg_intensity)"
   ]
  },
  {
   "cell_type": "markdown",
   "id": "a4b854d2",
   "metadata": {},
   "source": [
    "## Update visual result class\n",
    "### Set hyper parameters of the class"
   ]
  },
  {
   "cell_type": "code",
   "execution_count": 87,
   "id": "5a9614a6",
   "metadata": {},
   "outputs": [],
   "source": [
    "bkg_intensity = 0.40\n",
    "bkg_str = format(int(bkg_intensity*100),'02d')\n",
    "rotation_path = f'{folder_name}/{bkg_str}Per_2_train_process_rotation.npy'\n",
    "strain_path = f'{folder_name}/{bkg_str}Per_2_train_process_scale_shear.npy'\n",
    "rotation_40per = np.load(rotation_path)\n",
    "scale_shear_40per = np.load(strain_path)"
   ]
  },
  {
   "cell_type": "markdown",
   "id": "4e017d91",
   "metadata": {},
   "source": [
    "### Load variable into visualization class"
   ]
  },
  {
   "cell_type": "code",
   "execution_count": 88,
   "id": "fa1db466",
   "metadata": {},
   "outputs": [],
   "source": [
    "visual.file_py4DSTEM = f'{folder_name}/analysis_bg{bkg_str}per_1e5counts__strain.h5'\n",
    "visual.rotation = rotation_40per\n",
    "visual.scale_shear = scale_shear_40per\n",
    "visual.noise_intensity = bkg_intensity"
   ]
  },
  {
   "cell_type": "markdown",
   "id": "eba6e752",
   "metadata": {},
   "source": [
    "### Reset baseline of py4DSTEM"
   ]
  },
  {
   "cell_type": "code",
   "execution_count": 89,
   "id": "10921f54",
   "metadata": {},
   "outputs": [],
   "source": [
    "visual.reset_baseline()"
   ]
  },
  {
   "cell_type": "markdown",
   "id": "7d914bb0",
   "metadata": {},
   "source": [
    "### Shift angle to compare appropriately"
   ]
  },
  {
   "cell_type": "code",
   "execution_count": null,
   "id": "85439421",
   "metadata": {},
   "outputs": [],
   "source": [
    "visual.reset_angle(angle_shift=-8)"
   ]
  },
  {
   "cell_type": "markdown",
   "id": "2b4e075f",
   "metadata": {},
   "source": [
    "### Update polar decomposition based on new affine matrix"
   ]
  },
  {
   "cell_type": "code",
   "execution_count": null,
   "id": "9eced152",
   "metadata": {},
   "outputs": [],
   "source": [
    "visual.reset_polar_matrix()"
   ]
  },
  {
   "cell_type": "markdown",
   "id": "90d3b8c9",
   "metadata": {},
   "source": [
    "### Visualize strain result"
   ]
  },
  {
   "cell_type": "code",
   "execution_count": null,
   "id": "8a7781df",
   "metadata": {},
   "outputs": [],
   "source": [
    "visual.visual_strain()"
   ]
  },
  {
   "cell_type": "markdown",
   "id": "0a7f4438",
   "metadata": {},
   "source": [
    "### visualize MAE comparison"
   ]
  },
  {
   "cell_type": "code",
   "execution_count": null,
   "id": "2f8e9057",
   "metadata": {
    "scrolled": true
   },
   "outputs": [],
   "source": [
    "visual.visual_diff()"
   ]
  },
  {
   "cell_type": "code",
   "execution_count": 94,
   "id": "4144aaa3",
   "metadata": {},
   "outputs": [],
   "source": [
    "visual.record_performance(data_index=True,\n",
    "                          data_index_path=f'{folder_name}/simulated_4dstem_grain_index.npy',\n",
    "                          show_index_map=False,\n",
    "                          width=2)"
   ]
  },
  {
   "cell_type": "code",
   "execution_count": 95,
   "id": "9fd8a462",
   "metadata": {},
   "outputs": [],
   "source": [
    "visual.add_data_2_plot()"
   ]
  },
  {
   "cell_type": "code",
   "execution_count": null,
   "id": "903f0019",
   "metadata": {},
   "outputs": [],
   "source": []
  },
  {
   "cell_type": "markdown",
   "id": "9a465fde",
   "metadata": {},
   "source": [
    "# Visualize 45Percent Background"
   ]
  },
  {
   "cell_type": "markdown",
   "id": "a4928210",
   "metadata": {},
   "source": [
    "## Load pretraiend weight and rotation path"
   ]
  },
  {
   "cell_type": "code",
   "execution_count": null,
   "id": "cb72846d",
   "metadata": {},
   "outputs": [],
   "source": [
    "bkg_intensity = 0.45\n",
    "bkg_str = format(int(bkg_intensity*100),'02d')\n",
    "rotation_path = f'{folder_name}/{bkg_str}Percent_pretrained_rotation.npy'"
   ]
  },
  {
   "cell_type": "markdown",
   "id": "72859055",
   "metadata": {},
   "source": [
    "### Add extra rotation accoding to training strategy"
   ]
  },
  {
   "cell_type": "code",
   "execution_count": null,
   "id": "afa4d30f",
   "metadata": {},
   "outputs": [],
   "source": [
    "tc.background_weight= bkg_intensity\n",
    "tc.learned_rotation = rotation_path\n",
    "# add extra rotation accoding to training strategy\n",
    "tc.adjust_learned_rotation = -40"
   ]
  },
  {
   "cell_type": "markdown",
   "id": "7526d0ac",
   "metadata": {},
   "source": [
    "## Generate dataset"
   ]
  },
  {
   "cell_type": "code",
   "execution_count": null,
   "id": "ce95d770",
   "metadata": {},
   "outputs": [],
   "source": [
    "tc.load_data()"
   ]
  },
  {
   "cell_type": "markdown",
   "id": "a6a45d6a",
   "metadata": {},
   "source": [
    "## Load pretrained weight to neural network"
   ]
  },
  {
   "cell_type": "code",
   "execution_count": null,
   "id": "7e6e03c9",
   "metadata": {},
   "outputs": [],
   "source": [
    "weight_path = f\"{folder_name}/{bkg_str}percent_noisy_simulated_4dstem_pretrained_weights.pkl\"\n",
    "tc.load_pretrained_weight(weight_path)"
   ]
  },
  {
   "cell_type": "code",
   "execution_count": null,
   "id": "06a82b8a",
   "metadata": {},
   "outputs": [],
   "source": [
    "tc.predict(train_process='2',\n",
    "           save_strain = True,\n",
    "           save_rotation = True,\n",
    "           file_name=bkg_intensity)"
   ]
  },
  {
   "cell_type": "markdown",
   "id": "384986b7",
   "metadata": {},
   "source": [
    "## Update visual result class\n",
    "### Set hyper parameters of the class"
   ]
  },
  {
   "cell_type": "code",
   "execution_count": 96,
   "id": "50ecdc30",
   "metadata": {},
   "outputs": [],
   "source": [
    "bkg_intensity = 0.45\n",
    "bkg_str = format(int(bkg_intensity*100),'02d')\n",
    "rotation_path = f'{folder_name}/{bkg_str}Per_2_train_process_rotation.npy'\n",
    "strain_path = f'{folder_name}/{bkg_str}Per_2_train_process_scale_shear.npy'\n",
    "rotation_45per = np.load(rotation_path)\n",
    "scale_shear_45per = np.load(strain_path)"
   ]
  },
  {
   "cell_type": "markdown",
   "id": "83d11112",
   "metadata": {},
   "source": [
    "### Load variable into visualization class"
   ]
  },
  {
   "cell_type": "code",
   "execution_count": 97,
   "id": "33b4d661",
   "metadata": {},
   "outputs": [],
   "source": [
    "visual.file_py4DSTEM = f'{folder_name}/analysis_bg{bkg_str}per_1e5counts__strain.h5'\n",
    "visual.rotation = rotation_45per\n",
    "visual.scale_shear = scale_shear_45per\n",
    "visual.noise_intensity = bkg_intensity"
   ]
  },
  {
   "cell_type": "markdown",
   "id": "36ef6490",
   "metadata": {},
   "source": [
    "### Reset baseline of py4DSTEM"
   ]
  },
  {
   "cell_type": "code",
   "execution_count": 98,
   "id": "f4f68105",
   "metadata": {},
   "outputs": [],
   "source": [
    "visual.reset_baseline()"
   ]
  },
  {
   "cell_type": "markdown",
   "id": "e4fa74b2",
   "metadata": {},
   "source": [
    "### Shift angle to compare appropriately"
   ]
  },
  {
   "cell_type": "code",
   "execution_count": null,
   "id": "463b241c",
   "metadata": {},
   "outputs": [],
   "source": [
    "visual.reset_angle(angle_shift=-7)"
   ]
  },
  {
   "cell_type": "markdown",
   "id": "4534c734",
   "metadata": {},
   "source": [
    "### Update polar decomposition based on new affine matrix"
   ]
  },
  {
   "cell_type": "code",
   "execution_count": null,
   "id": "6f568f92",
   "metadata": {},
   "outputs": [],
   "source": [
    "visual.reset_polar_matrix()"
   ]
  },
  {
   "cell_type": "markdown",
   "id": "015a8c65",
   "metadata": {},
   "source": [
    "### Visualize strain result"
   ]
  },
  {
   "cell_type": "code",
   "execution_count": null,
   "id": "40a7a886",
   "metadata": {},
   "outputs": [],
   "source": [
    "visual.visual_strain()"
   ]
  },
  {
   "cell_type": "markdown",
   "id": "8755f7bd",
   "metadata": {},
   "source": [
    "### visualize MAE comparison"
   ]
  },
  {
   "cell_type": "code",
   "execution_count": null,
   "id": "428e4b47",
   "metadata": {
    "scrolled": true
   },
   "outputs": [],
   "source": [
    "visual.visual_diff()"
   ]
  },
  {
   "cell_type": "code",
   "execution_count": 103,
   "id": "a20fd7e8",
   "metadata": {},
   "outputs": [],
   "source": [
    "visual.record_performance(data_index=True,\n",
    "                          data_index_path=f'{folder_name}/simulated_4dstem_grain_index.npy',\n",
    "                          show_index_map=False,\n",
    "                          width=2)"
   ]
  },
  {
   "cell_type": "code",
   "execution_count": 104,
   "id": "6920b1bc",
   "metadata": {},
   "outputs": [],
   "source": [
    "visual.add_data_2_plot()"
   ]
  },
  {
   "cell_type": "code",
   "execution_count": null,
   "id": "6466c6ff",
   "metadata": {},
   "outputs": [],
   "source": []
  },
  {
   "cell_type": "markdown",
   "id": "1a8b223f",
   "metadata": {},
   "source": [
    "# Visualize 50Percent Background"
   ]
  },
  {
   "cell_type": "markdown",
   "id": "59268945",
   "metadata": {},
   "source": [
    "## Load pretraiend weight and rotation path"
   ]
  },
  {
   "cell_type": "code",
   "execution_count": null,
   "id": "d859a08b",
   "metadata": {},
   "outputs": [],
   "source": [
    "bkg_intensity = 0.50\n",
    "bkg_str = format(int(bkg_intensity*100),'02d')\n",
    "rotation_path = f'{folder_name}/{bkg_str}Percent_pretrained_rotation.npy'"
   ]
  },
  {
   "cell_type": "markdown",
   "id": "58aab9d2",
   "metadata": {},
   "source": [
    "### Add extra rotation accoding to training strategy"
   ]
  },
  {
   "cell_type": "code",
   "execution_count": null,
   "id": "18f3ee45",
   "metadata": {},
   "outputs": [],
   "source": [
    "tc.background_weight= bkg_intensity\n",
    "tc.learned_rotation = rotation_path\n",
    "# add extra rotation accoding to training strategy\n",
    "tc.adjust_learned_rotation = -20"
   ]
  },
  {
   "cell_type": "markdown",
   "id": "be3e1cc2",
   "metadata": {},
   "source": [
    "## Generate dataset"
   ]
  },
  {
   "cell_type": "code",
   "execution_count": null,
   "id": "021f80f4",
   "metadata": {},
   "outputs": [],
   "source": [
    "tc.load_data()"
   ]
  },
  {
   "cell_type": "markdown",
   "id": "689c1949",
   "metadata": {},
   "source": [
    "## Load pretrained weight to neural network"
   ]
  },
  {
   "cell_type": "code",
   "execution_count": null,
   "id": "ff0179a8",
   "metadata": {},
   "outputs": [],
   "source": [
    "weight_path = f\"{folder_name}/{bkg_str}percent_noisy_simulated_4dstem_pretrained_weights.pkl\"\n",
    "tc.load_pretrained_weight(weight_path)"
   ]
  },
  {
   "cell_type": "code",
   "execution_count": null,
   "id": "9b7d6fda",
   "metadata": {},
   "outputs": [],
   "source": [
    "tc.predict(train_process='2',\n",
    "           save_strain = True,\n",
    "           save_rotation = True,\n",
    "           file_name=bkg_intensity)"
   ]
  },
  {
   "cell_type": "markdown",
   "id": "494fb99f",
   "metadata": {},
   "source": [
    "## Update visual result class\n",
    "### Set hyper parameters of the class"
   ]
  },
  {
   "cell_type": "code",
   "execution_count": 105,
   "id": "db395b1c",
   "metadata": {},
   "outputs": [],
   "source": [
    "bkg_intensity = 0.50\n",
    "bkg_str = format(int(bkg_intensity*100),'02d')\n",
    "rotation_path = f'{folder_name}/{bkg_str}Per_2_train_process_rotation.npy'\n",
    "strain_path = f'{folder_name}/{bkg_str}Per_2_train_process_scale_shear.npy'\n",
    "rotation_50per = np.load(rotation_path)\n",
    "scale_shear_50per = np.load(strain_path)"
   ]
  },
  {
   "cell_type": "markdown",
   "id": "0763c382",
   "metadata": {},
   "source": [
    "### Load variable into visualization class"
   ]
  },
  {
   "cell_type": "code",
   "execution_count": 106,
   "id": "d3d94467",
   "metadata": {},
   "outputs": [],
   "source": [
    "visual.file_py4DSTEM = f'{folder_name}/analysis_bg{bkg_str}per_1e5counts__strain.h5'\n",
    "visual.rotation = rotation_50per\n",
    "visual.scale_shear = scale_shear_50per\n",
    "visual.noise_intensity = bkg_intensity"
   ]
  },
  {
   "cell_type": "markdown",
   "id": "0a83200a",
   "metadata": {},
   "source": [
    "### Reset baseline of py4DSTEM"
   ]
  },
  {
   "cell_type": "code",
   "execution_count": 107,
   "id": "6ea2cadd",
   "metadata": {},
   "outputs": [],
   "source": [
    "visual.reset_baseline()"
   ]
  },
  {
   "cell_type": "markdown",
   "id": "63f2836e",
   "metadata": {},
   "source": [
    "### Shift angle to compare appropriately"
   ]
  },
  {
   "cell_type": "code",
   "execution_count": null,
   "id": "bbe45a5f",
   "metadata": {},
   "outputs": [],
   "source": [
    "visual.reset_angle(angle_shift=-6)"
   ]
  },
  {
   "cell_type": "markdown",
   "id": "37925f09",
   "metadata": {},
   "source": [
    "### Update polar decomposition based on new affine matrix"
   ]
  },
  {
   "cell_type": "code",
   "execution_count": null,
   "id": "4fb31ea7",
   "metadata": {},
   "outputs": [],
   "source": [
    "visual.reset_polar_matrix()"
   ]
  },
  {
   "cell_type": "markdown",
   "id": "b726c398",
   "metadata": {},
   "source": [
    "### Visualize strain result"
   ]
  },
  {
   "cell_type": "code",
   "execution_count": null,
   "id": "5fe9ef17",
   "metadata": {},
   "outputs": [],
   "source": [
    "visual.visual_strain()"
   ]
  },
  {
   "cell_type": "markdown",
   "id": "b8619842",
   "metadata": {},
   "source": [
    "### Visualize MAE comparison"
   ]
  },
  {
   "cell_type": "code",
   "execution_count": null,
   "id": "d541b174",
   "metadata": {
    "scrolled": true
   },
   "outputs": [],
   "source": [
    "visual.visual_diff()"
   ]
  },
  {
   "cell_type": "code",
   "execution_count": 112,
   "id": "e229d0bd",
   "metadata": {},
   "outputs": [],
   "source": [
    "visual.record_performance(data_index=True,\n",
    "                          data_index_path=f'{folder_name}/simulated_4dstem_grain_index.npy',\n",
    "                          show_index_map=False,\n",
    "                          width=2)"
   ]
  },
  {
   "cell_type": "code",
   "execution_count": 113,
   "id": "fd3b1824",
   "metadata": {},
   "outputs": [],
   "source": [
    "visual.add_data_2_plot()"
   ]
  },
  {
   "cell_type": "code",
   "execution_count": null,
   "id": "830c23c1",
   "metadata": {},
   "outputs": [],
   "source": []
  },
  {
   "cell_type": "markdown",
   "id": "26eac4bb",
   "metadata": {},
   "source": [
    "# Visualize 60Percent Background"
   ]
  },
  {
   "cell_type": "markdown",
   "id": "9e124b2e",
   "metadata": {},
   "source": [
    "## Load pretraiend weight and rotation path"
   ]
  },
  {
   "cell_type": "code",
   "execution_count": null,
   "id": "c4daa82c",
   "metadata": {},
   "outputs": [],
   "source": [
    "bkg_intensity = 0.60\n",
    "bkg_str = format(int(bkg_intensity*100),'02d')\n",
    "rotation_path = f'{folder_name}/{bkg_str}Percent_pretrained_rotation.npy'"
   ]
  },
  {
   "cell_type": "markdown",
   "id": "5b65d58c",
   "metadata": {},
   "source": [
    "### Add extra rotation accoding to training strategy"
   ]
  },
  {
   "cell_type": "code",
   "execution_count": null,
   "id": "d044b1ae",
   "metadata": {},
   "outputs": [],
   "source": [
    "tc.background_weight= bkg_intensity\n",
    "tc.learned_rotation = rotation_path\n",
    "# add extra rotation accoding to training strategy\n",
    "tc.adjust_learned_rotation = 1"
   ]
  },
  {
   "cell_type": "markdown",
   "id": "3546901e",
   "metadata": {},
   "source": [
    "## Generate dataset"
   ]
  },
  {
   "cell_type": "code",
   "execution_count": null,
   "id": "b2fcd9c2",
   "metadata": {},
   "outputs": [],
   "source": [
    "tc.load_data()"
   ]
  },
  {
   "cell_type": "markdown",
   "id": "795db2bd",
   "metadata": {},
   "source": [
    "## Load pretrained weight to neural network"
   ]
  },
  {
   "cell_type": "code",
   "execution_count": null,
   "id": "24689c35",
   "metadata": {},
   "outputs": [],
   "source": [
    "weight_path = f\"{folder_name}/{bkg_str}percent_noisy_simulated_4dstem_pretrained_weights.pkl\"\n",
    "tc.load_pretrained_weight(weight_path)"
   ]
  },
  {
   "cell_type": "code",
   "execution_count": null,
   "id": "de8b5511",
   "metadata": {},
   "outputs": [],
   "source": [
    "tc.predict(train_process='2',\n",
    "           save_strain = True,\n",
    "           save_rotation = True,\n",
    "           file_name=bkg_intensity)"
   ]
  },
  {
   "cell_type": "markdown",
   "id": "0e9f2078",
   "metadata": {},
   "source": [
    "## Update visual result class\n",
    "### Set hyper parameters of the class"
   ]
  },
  {
   "cell_type": "code",
   "execution_count": 114,
   "id": "20021022",
   "metadata": {},
   "outputs": [],
   "source": [
    "bkg_intensity = 0.60\n",
    "bkg_str = format(int(bkg_intensity*100),'02d')\n",
    "rotation_path = f'{folder_name}/{bkg_str}Per_2_train_process_rotation.npy'\n",
    "strain_path = f'{folder_name}/{bkg_str}Per_2_train_process_scale_shear.npy'\n",
    "rotation_60per = np.load(rotation_path)\n",
    "scale_shear_60per = np.load(strain_path)"
   ]
  },
  {
   "cell_type": "markdown",
   "id": "347ff643",
   "metadata": {},
   "source": [
    "### Load variable into visualization class"
   ]
  },
  {
   "cell_type": "code",
   "execution_count": 115,
   "id": "dd0ac25a",
   "metadata": {},
   "outputs": [],
   "source": [
    "visual.file_py4DSTEM = f'{folder_name}/analysis_bg{bkg_str}per_1e5counts__strain.h5'\n",
    "visual.rotation = rotation_60per\n",
    "visual.scale_shear = scale_shear_60per\n",
    "visual.noise_intensity = bkg_intensity"
   ]
  },
  {
   "cell_type": "markdown",
   "id": "2be6b7a1",
   "metadata": {},
   "source": [
    "### Reset baseline of py4DSTEM"
   ]
  },
  {
   "cell_type": "code",
   "execution_count": 116,
   "id": "341c4ed5",
   "metadata": {},
   "outputs": [],
   "source": [
    "visual.reset_baseline()"
   ]
  },
  {
   "cell_type": "markdown",
   "id": "1278fa59",
   "metadata": {},
   "source": [
    "### Shift angle to compare appropriately"
   ]
  },
  {
   "cell_type": "code",
   "execution_count": null,
   "id": "41b41154",
   "metadata": {},
   "outputs": [],
   "source": [
    "visual.reset_angle(angle_shift=-9)"
   ]
  },
  {
   "cell_type": "markdown",
   "id": "0af8e9a1",
   "metadata": {},
   "source": [
    "### Update polar decomposition based on new affine matrix"
   ]
  },
  {
   "cell_type": "code",
   "execution_count": null,
   "id": "cf860e2e",
   "metadata": {},
   "outputs": [],
   "source": [
    "visual.reset_polar_matrix()"
   ]
  },
  {
   "cell_type": "markdown",
   "id": "e991f775",
   "metadata": {},
   "source": [
    "### Visualize strain result"
   ]
  },
  {
   "cell_type": "code",
   "execution_count": null,
   "id": "74408968",
   "metadata": {},
   "outputs": [],
   "source": [
    "visual.visual_strain()"
   ]
  },
  {
   "cell_type": "markdown",
   "id": "9f60e9bc",
   "metadata": {},
   "source": [
    "### Visualize MAE comparison"
   ]
  },
  {
   "cell_type": "code",
   "execution_count": null,
   "id": "fe603853",
   "metadata": {
    "scrolled": true
   },
   "outputs": [],
   "source": [
    "visual.mae_diff_range = [-0.01,0.01]\n",
    "visual.visual_diff()"
   ]
  },
  {
   "cell_type": "code",
   "execution_count": 121,
   "id": "83a52dc6",
   "metadata": {},
   "outputs": [],
   "source": [
    "visual.record_performance(data_index=True,\n",
    "                          data_index_path=f'{folder_name}/simulated_4dstem_grain_index.npy',\n",
    "                          show_index_map=False,\n",
    "                          width=2)"
   ]
  },
  {
   "cell_type": "code",
   "execution_count": 122,
   "id": "9ac22255",
   "metadata": {},
   "outputs": [],
   "source": [
    "visual.add_data_2_plot()"
   ]
  },
  {
   "cell_type": "code",
   "execution_count": null,
   "id": "e39e34da",
   "metadata": {},
   "outputs": [],
   "source": []
  },
  {
   "cell_type": "markdown",
   "id": "5e630cb2",
   "metadata": {},
   "source": [
    "# Visualize 70Percent Background"
   ]
  },
  {
   "cell_type": "markdown",
   "id": "5490d734",
   "metadata": {},
   "source": [
    "## Load pretraiend weight and rotation path"
   ]
  },
  {
   "cell_type": "code",
   "execution_count": null,
   "id": "46adbfc3",
   "metadata": {},
   "outputs": [],
   "source": [
    "bkg_intensity = 0.70\n",
    "bkg_str = format(int(bkg_intensity*100),'02d')\n",
    "rotation_path = f'{folder_name}/{bkg_str}Percent_pretrained_rotation.npy'"
   ]
  },
  {
   "cell_type": "markdown",
   "id": "d2627cbd",
   "metadata": {},
   "source": [
    "### Add extra rotation accoding to training strategy"
   ]
  },
  {
   "cell_type": "code",
   "execution_count": null,
   "id": "b9f468fc",
   "metadata": {},
   "outputs": [],
   "source": [
    "tc.background_weight= bkg_intensity\n",
    "tc.learned_rotation = rotation_path\n",
    "# add extra rotation accoding to training strategy\n",
    "tc.adjust_learned_rotation = 20"
   ]
  },
  {
   "cell_type": "markdown",
   "id": "3aadac52",
   "metadata": {},
   "source": [
    "## Generate dataset"
   ]
  },
  {
   "cell_type": "code",
   "execution_count": null,
   "id": "717f7db3",
   "metadata": {},
   "outputs": [],
   "source": [
    "tc.load_data()"
   ]
  },
  {
   "cell_type": "markdown",
   "id": "6f803592",
   "metadata": {},
   "source": [
    "## Load pretrained weight to neural network"
   ]
  },
  {
   "cell_type": "code",
   "execution_count": null,
   "id": "194f786c",
   "metadata": {},
   "outputs": [],
   "source": [
    "weight_path = f\"{folder_name}/{bkg_str}percent_noisy_simulated_4dstem_pretrained_weights.pkl\"\n",
    "tc.load_pretrained_weight(weight_path)"
   ]
  },
  {
   "cell_type": "code",
   "execution_count": null,
   "id": "21d34549",
   "metadata": {},
   "outputs": [],
   "source": [
    "tc.predict(train_process='2',\n",
    "           save_strain = True,\n",
    "           save_rotation = True,\n",
    "           file_name=bkg_intensity)"
   ]
  },
  {
   "cell_type": "markdown",
   "id": "3f374adb",
   "metadata": {},
   "source": [
    "## Update visual result class\n",
    "### Set hyper parameters of the class"
   ]
  },
  {
   "cell_type": "code",
   "execution_count": 123,
   "id": "6951cd7f",
   "metadata": {},
   "outputs": [],
   "source": [
    "bkg_intensity = 0.70\n",
    "bkg_str = format(int(bkg_intensity*100),'02d')\n",
    "rotation_path = f'{folder_name}/{bkg_str}Per_2_train_process_rotation.npy'\n",
    "strain_path = f'{folder_name}/{bkg_str}Per_2_train_process_scale_shear.npy'\n",
    "rotation_70per = np.load(rotation_path)\n",
    "scale_shear_70per = np.load(strain_path)"
   ]
  },
  {
   "cell_type": "markdown",
   "id": "9d8eb41c",
   "metadata": {},
   "source": [
    "### Load variable into visualization class"
   ]
  },
  {
   "cell_type": "code",
   "execution_count": 124,
   "id": "c081824b",
   "metadata": {},
   "outputs": [],
   "source": [
    "visual.file_py4DSTEM = f'{folder_name}/analysis_bg{bkg_str}per_1e5counts__strain.h5'\n",
    "visual.rotation = rotation_70per\n",
    "visual.scale_shear = scale_shear_70per\n",
    "visual.noise_intensity = bkg_intensity"
   ]
  },
  {
   "cell_type": "markdown",
   "id": "28f5cc87",
   "metadata": {},
   "source": [
    "### Reset baseline of py4DSTEM"
   ]
  },
  {
   "cell_type": "code",
   "execution_count": 125,
   "id": "4ca1d955",
   "metadata": {},
   "outputs": [],
   "source": [
    "visual.reset_baseline()"
   ]
  },
  {
   "cell_type": "markdown",
   "id": "51f3d50b",
   "metadata": {},
   "source": [
    "### Shift angle to compare appropriately"
   ]
  },
  {
   "cell_type": "code",
   "execution_count": null,
   "id": "9b3390d4",
   "metadata": {},
   "outputs": [],
   "source": [
    "visual.reset_angle(angle_shift=-8)"
   ]
  },
  {
   "cell_type": "markdown",
   "id": "58ac241a",
   "metadata": {},
   "source": [
    "### Update polar decomposition based on new affine matrix"
   ]
  },
  {
   "cell_type": "code",
   "execution_count": null,
   "id": "8eae2ea8",
   "metadata": {},
   "outputs": [],
   "source": [
    "visual.reset_polar_matrix()"
   ]
  },
  {
   "cell_type": "markdown",
   "id": "65eac6ee",
   "metadata": {},
   "source": [
    "### Visualize strain result"
   ]
  },
  {
   "cell_type": "code",
   "execution_count": null,
   "id": "f7d3a66b",
   "metadata": {},
   "outputs": [],
   "source": [
    "visual.visual_strain()"
   ]
  },
  {
   "cell_type": "markdown",
   "id": "afd512f1",
   "metadata": {},
   "source": [
    "### Visualize MAE comparison"
   ]
  },
  {
   "cell_type": "code",
   "execution_count": null,
   "id": "db2015c4",
   "metadata": {
    "scrolled": true
   },
   "outputs": [],
   "source": [
    "visual.mae_diff_range = [-0.015,0.015]\n",
    "visual.visual_diff()"
   ]
  },
  {
   "cell_type": "code",
   "execution_count": 130,
   "id": "eb3f24f5",
   "metadata": {},
   "outputs": [],
   "source": [
    "visual.record_performance(data_index=True,\n",
    "                          data_index_path=f'{folder_name}/simulated_4dstem_grain_index.npy',\n",
    "                          show_index_map=False,\n",
    "                          width=2)"
   ]
  },
  {
   "cell_type": "code",
   "execution_count": 131,
   "id": "20a1b784",
   "metadata": {},
   "outputs": [],
   "source": [
    "visual.add_data_2_plot()"
   ]
  },
  {
   "cell_type": "code",
   "execution_count": null,
   "id": "d74219fc",
   "metadata": {},
   "outputs": [],
   "source": []
  },
  {
   "cell_type": "markdown",
   "id": "5f8d2e6d",
   "metadata": {},
   "source": [
    "## Visualize performance of both methods"
   ]
  },
  {
   "cell_type": "code",
   "execution_count": 132,
   "id": "5cb2161e",
   "metadata": {},
   "outputs": [],
   "source": [
    "img_show = True\n",
    "if img_show:\n",
    "    %matplotlib inline\n",
    "else:\n",
    "    plt.ioff()"
   ]
  },
  {
   "cell_type": "code",
   "execution_count": 133,
   "id": "a31f44e8",
   "metadata": {},
   "outputs": [],
   "source": [
    "direct_load = True\n",
    "if direct_load:\n",
    "    with open(f'{folder_name}/MAE_list_simulated_4dstem.pickle', 'rb') as pickle_file:\n",
    "        visual.list_of_dic = pickle.load(pickle_file)"
   ]
  },
  {
   "cell_type": "markdown",
   "id": "7c7882c2",
   "metadata": {},
   "source": [
    "### Generate various noise level plots of both methods\n",
    "### Generate Strain XX results"
   ]
  },
  {
   "cell_type": "code",
   "execution_count": 134,
   "id": "bb3dfe59",
   "metadata": {},
   "outputs": [],
   "source": [
    "# maually_record_fpga_results\n",
    "\n",
    "# x_add = [0,0.25,0.6]\n",
    "# fpga_xx = [0.002,0.0017,0.0019]\n",
    "# fpga_yy = [0.0026,0.0017,0.0022]\n",
    "# fpga_xy = [0.0015,0.0011,0.0016]\n",
    "# fpga_rot = [1.63,1.28,1.47]"
   ]
  },
  {
   "cell_type": "code",
   "execution_count": null,
   "id": "779ad75b",
   "metadata": {},
   "outputs": [],
   "source": [
    "visual_performance_plot(x_list=visual.extract_ele_from_dic(0)[0],\n",
    "                        auto=visual.extract_ele_from_dic(4)[1],\n",
    "                        py4d=visual.extract_ele_from_dic(0)[1],\n",
    "#                         auto_yerr =visual.extract_ele_from_dic(12)[1],\n",
    "#                         py4d_yerr =visual.extract_ele_from_dic(8)[1],\n",
    "                        title = 'Strian X',\n",
    "                        xlabel = '',\n",
    "                        ylabel ='',\n",
    "                        # add_x = x_add,\n",
    "                        # add_y = fpga_xx,\n",
    "                        marker_list = ['o','H','^'],\n",
    "                        figsize=(6,5),\n",
    "                        ylim = [0,0.005],\n",
    "                        fill_between = False,\n",
    "                        errorbar= False,\n",
    "                        folder_path='save_figures/')"
   ]
  },
  {
   "cell_type": "markdown",
   "id": "ed1e23b9",
   "metadata": {},
   "source": [
    "### Generate Strain YY results"
   ]
  },
  {
   "cell_type": "code",
   "execution_count": null,
   "id": "99114937",
   "metadata": {},
   "outputs": [],
   "source": [
    "visual_performance_plot(x_list=visual.extract_ele_from_dic(0)[0],\n",
    "                        auto=visual.extract_ele_from_dic(5)[1],\n",
    "                        py4d=visual.extract_ele_from_dic(1)[1],\n",
    "                        # auto_yerr =visual.extract_ele_from_dic(13)[1],\n",
    "                        # py4d_yerr =visual.extract_ele_from_dic(9)[1],\n",
    "                        title = 'Strian Y',\n",
    "                        xlabel = '',\n",
    "                        ylabel ='',\n",
    "                        # add_x = x_add,\n",
    "                        # add_y = fpga_yy,\n",
    "                        marker_list = ['o','H','^'],\n",
    "                        figsize=(6,5),\n",
    "                        ylim = [0,0.005],\n",
    "                        fill_between = False,\n",
    "                        errorbar=False,\n",
    "                        folder_path='save_figures/')"
   ]
  },
  {
   "cell_type": "markdown",
   "id": "45f60699",
   "metadata": {},
   "source": [
    "### Generate Strain XY results"
   ]
  },
  {
   "cell_type": "code",
   "execution_count": null,
   "id": "fcbd3089",
   "metadata": {},
   "outputs": [],
   "source": [
    "visual_performance_plot(x_list=visual.extract_ele_from_dic(0)[0],\n",
    "                        auto=visual.extract_ele_from_dic(6)[1],\n",
    "                        py4d=visual.extract_ele_from_dic(2)[1],\n",
    "                        # auto_yerr =visual.extract_ele_from_dic(14)[1],\n",
    "                        # py4d_yerr =visual.extract_ele_from_dic(10)[1],\n",
    "                        title = 'Shear',\n",
    "                        xlabel = '',\n",
    "                        ylabel ='',\n",
    "                        # add_x = x_add,\n",
    "                        # add_y = fpga_xy,\n",
    "                        marker_list = ['o','H','^'],\n",
    "                        figsize=(6,5),\n",
    "                        ylim = [0,0.004],\n",
    "                        fill_between = False,\n",
    "                        errorbar=False,\n",
    "                        folder_path='save_figures/')"
   ]
  },
  {
   "cell_type": "markdown",
   "id": "d30f4691",
   "metadata": {},
   "source": [
    "### Generate Rotation results"
   ]
  },
  {
   "cell_type": "code",
   "execution_count": null,
   "id": "56ef8fda",
   "metadata": {},
   "outputs": [],
   "source": [
    "visual_performance_plot(x_list=visual.extract_ele_from_dic(0)[0],\n",
    "                        auto=visual.extract_ele_from_dic(7)[1],\n",
    "                        py4d=visual.extract_ele_from_dic(3)[1],\n",
    "                        # auto_yerr =visual.extract_ele_from_dic(15)[1],\n",
    "                        # py4d_yerr =visual.extract_ele_from_dic(11)[1],\n",
    "                        title = 'Rotation',\n",
    "                        xlabel = '',\n",
    "                        ylabel ='',\n",
    "                        # add_x = x_add,\n",
    "                        # add_y = fpga_rot,\n",
    "                        marker_list = ['o','H','^'],\n",
    "                        figsize=(6,5),\n",
    "                        ylim = [0,1.75],\n",
    "                        fill_between = False,\n",
    "                        errorbar= False,\n",
    "                        folder_path='save_figures/')"
   ]
  },
  {
   "cell_type": "code",
   "execution_count": null,
   "id": "b3b8772d",
   "metadata": {},
   "outputs": [],
   "source": []
  }
 ],
 "metadata": {
  "kernelspec": {
   "display_name": "Python 3",
   "language": "python",
   "name": "python3"
  },
  "language_info": {
   "codemirror_mode": {
    "name": "ipython",
    "version": 3
   },
   "file_extension": ".py",
   "mimetype": "text/x-python",
   "name": "python",
   "nbconvert_exporter": "python",
   "pygments_lexer": "ipython3",
   "version": "3.11.11"
  }
 },
 "nbformat": 4,
 "nbformat_minor": 5
}
